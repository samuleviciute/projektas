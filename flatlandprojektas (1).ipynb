{
  "cells": [
    {
      "cell_type": "code",
      "execution_count": 1,
      "id": "2ed4d4f5",
      "metadata": {
        "id": "2ed4d4f5"
      },
      "outputs": [],
      "source": [
        "import gzip\n",
        "import pickle\n",
        "from tensorflow import keras\n",
        "import numpy as np\n",
        "\n",
        "def evaluate(path, model):\n",
        "    X, y = pickle.load(gzip.open(path, 'rb'))\n",
        "    y[y != 0] -= 2\n",
        "    X = X / 255.\n",
        "    acc = np.mean(model(X).numpy().argmax(axis=1) == y)\n",
        "    return acc"
      ]
    },
    {
      "cell_type": "markdown",
      "id": "13b28fec",
      "metadata": {
        "id": "13b28fec"
      },
      "source": [
        "# Loading data"
      ]
    },
    {
      "cell_type": "code",
      "execution_count": 17,
      "id": "d20f5725",
      "metadata": {
        "id": "d20f5725"
      },
      "outputs": [],
      "source": [
        "path = 'flatland_train.data'\n",
        "X,y = pickle.load(gzip.open(path,'rb')) #(1000,50,50)\n",
        "\n",
        "# data pre-proc\n",
        "y[y != 0] -= 2\n",
        "X = X / 255."
      ]
    },
    {
      "cell_type": "code",
      "source": [
        "from sklearn.model_selection import train_test_split\n",
        "\n",
        "X_train, X_test, y_train, y_test = train_test_split(X,y,test_size = 0.3,random_state = 42) "
      ],
      "metadata": {
        "id": "0XU4EmMB5l66"
      },
      "id": "0XU4EmMB5l66",
      "execution_count": 52,
      "outputs": []
    },
    {
      "cell_type": "markdown",
      "id": "a6901dd4",
      "metadata": {
        "id": "a6901dd4"
      },
      "source": [
        "# DNN"
      ]
    },
    {
      "cell_type": "code",
      "execution_count": 3,
      "id": "ffc01e2a",
      "metadata": {
        "colab": {
          "base_uri": "https://localhost:8080/"
        },
        "id": "ffc01e2a",
        "outputId": "fe3910fc-2d65-4b1b-d51e-71acadb3919f"
      },
      "outputs": [
        {
          "output_type": "stream",
          "name": "stdout",
          "text": [
            "Model: \"sequential\"\n",
            "_________________________________________________________________\n",
            " Layer (type)                Output Shape              Param #   \n",
            "=================================================================\n",
            " flatten (Flatten)           (None, 2500)              0         \n",
            "                                                                 \n",
            " dense (Dense)               (None, 20)                50020     \n",
            "                                                                 \n",
            " dense_1 (Dense)             (None, 5)                 105       \n",
            "                                                                 \n",
            "=================================================================\n",
            "Total params: 50,125\n",
            "Trainable params: 50,125\n",
            "Non-trainable params: 0\n",
            "_________________________________________________________________\n"
          ]
        }
      ],
      "source": [
        "model = keras.models.Sequential()\n",
        "# all data pre-processing should be in keras model!\n",
        "model.add(keras.layers.Flatten(input_shape=(50,50))) #(1000,2500)\n",
        "model.add(keras.layers.Dense(20,activation='relu')) \n",
        "model.add(keras.layers.Dense(5,activation='softmax')) \n",
        "model.compile(loss='sparse_categorical_crossentropy',optimizer='sgd',\n",
        "             metrics=['accuracy'])\n",
        "#if you use categorical_crossentropy then it expects one hot encoded output\n",
        "model.summary()\n"
      ]
    },
    {
      "cell_type": "code",
      "execution_count": 4,
      "id": "0e800ac0",
      "metadata": {
        "scrolled": true,
        "colab": {
          "base_uri": "https://localhost:8080/"
        },
        "id": "0e800ac0",
        "outputId": "1212cc49-3932-4a8f-c49c-590cd78c6542"
      },
      "outputs": [
        {
          "output_type": "stream",
          "name": "stdout",
          "text": [
            "Epoch 1/10\n",
            "313/313 [==============================] - 3s 4ms/step - loss: 1.4677 - accuracy: 0.4067\n",
            "Epoch 2/10\n",
            "313/313 [==============================] - 1s 3ms/step - loss: 1.3009 - accuracy: 0.4748\n",
            "Epoch 3/10\n",
            "313/313 [==============================] - 1s 4ms/step - loss: 1.2225 - accuracy: 0.4936\n",
            "Epoch 4/10\n",
            "313/313 [==============================] - 1s 3ms/step - loss: 1.1797 - accuracy: 0.5008\n",
            "Epoch 5/10\n",
            "313/313 [==============================] - 1s 3ms/step - loss: 1.1474 - accuracy: 0.5172\n",
            "Epoch 6/10\n",
            "313/313 [==============================] - 1s 3ms/step - loss: 1.1237 - accuracy: 0.5223\n",
            "Epoch 7/10\n",
            "313/313 [==============================] - 1s 3ms/step - loss: 1.1052 - accuracy: 0.5309\n",
            "Epoch 8/10\n",
            "313/313 [==============================] - 1s 3ms/step - loss: 1.0837 - accuracy: 0.5404\n",
            "Epoch 9/10\n",
            "313/313 [==============================] - 1s 3ms/step - loss: 1.0654 - accuracy: 0.5501\n",
            "Epoch 10/10\n",
            "313/313 [==============================] - 1s 3ms/step - loss: 1.0466 - accuracy: 0.5626\n"
          ]
        },
        {
          "output_type": "execute_result",
          "data": {
            "text/plain": [
              "<keras.callbacks.History at 0x7f8c301eeb90>"
            ]
          },
          "metadata": {},
          "execution_count": 4
        }
      ],
      "source": [
        "model.fit(X,y, epochs=10)"
      ]
    },
    {
      "cell_type": "code",
      "execution_count": 81,
      "id": "86f0c95a",
      "metadata": {
        "id": "86f0c95a"
      },
      "outputs": [],
      "source": [
        "model.save('model.h5')"
      ]
    },
    {
      "cell_type": "markdown",
      "id": "981c48cb",
      "metadata": {
        "id": "981c48cb"
      },
      "source": [
        "## Test your model!!!"
      ]
    },
    {
      "cell_type": "code",
      "execution_count": 82,
      "id": "a7db4e3e",
      "metadata": {
        "colab": {
          "base_uri": "https://localhost:8080/"
        },
        "id": "a7db4e3e",
        "outputId": "0ba8c9f4-855a-4310-e2cb-a8b95e00d72c"
      },
      "outputs": [
        {
          "output_type": "execute_result",
          "data": {
            "text/plain": [
              "0.8796"
            ]
          },
          "metadata": {},
          "execution_count": 82
        }
      ],
      "source": [
        "model = keras.models.load_model('model.h5')\n",
        "evaluate('flatland_train.data', model)"
      ]
    },
    {
      "cell_type": "markdown",
      "id": "6064caf2",
      "metadata": {
        "id": "6064caf2"
      },
      "source": [
        "# Fashion MNIST"
      ]
    },
    {
      "cell_type": "code",
      "execution_count": 7,
      "id": "10d62a2f",
      "metadata": {
        "collapsed": true,
        "colab": {
          "base_uri": "https://localhost:8080/"
        },
        "id": "10d62a2f",
        "outputId": "3c9a7a4f-c18d-4d66-8e1d-c0ad6b3322e2"
      },
      "outputs": [
        {
          "output_type": "stream",
          "name": "stdout",
          "text": [
            "Requirement already satisfied: matplotlib in /usr/local/lib/python3.7/dist-packages (3.2.2)\n",
            "Requirement already satisfied: numpy>=1.11 in /usr/local/lib/python3.7/dist-packages (from matplotlib) (1.19.5)\n",
            "Requirement already satisfied: pyparsing!=2.0.4,!=2.1.2,!=2.1.6,>=2.0.1 in /usr/local/lib/python3.7/dist-packages (from matplotlib) (3.0.6)\n",
            "Requirement already satisfied: kiwisolver>=1.0.1 in /usr/local/lib/python3.7/dist-packages (from matplotlib) (1.3.2)\n",
            "Requirement already satisfied: python-dateutil>=2.1 in /usr/local/lib/python3.7/dist-packages (from matplotlib) (2.8.2)\n",
            "Requirement already satisfied: cycler>=0.10 in /usr/local/lib/python3.7/dist-packages (from matplotlib) (0.11.0)\n",
            "Requirement already satisfied: six>=1.5 in /usr/local/lib/python3.7/dist-packages (from python-dateutil>=2.1->matplotlib) (1.15.0)\n"
          ]
        }
      ],
      "source": [
        "pip install matplotlib"
      ]
    },
    {
      "cell_type": "code",
      "execution_count": 8,
      "id": "4f16f798",
      "metadata": {
        "colab": {
          "base_uri": "https://localhost:8080/"
        },
        "id": "4f16f798",
        "outputId": "9afef9e5-ab62-4e6e-f9af-7c67c0f8ae97"
      },
      "outputs": [
        {
          "output_type": "stream",
          "name": "stdout",
          "text": [
            "Downloading data from https://storage.googleapis.com/tensorflow/tf-keras-datasets/train-labels-idx1-ubyte.gz\n",
            "32768/29515 [=================================] - 0s 0us/step\n",
            "40960/29515 [=========================================] - 0s 0us/step\n",
            "Downloading data from https://storage.googleapis.com/tensorflow/tf-keras-datasets/train-images-idx3-ubyte.gz\n",
            "26427392/26421880 [==============================] - 0s 0us/step\n",
            "26435584/26421880 [==============================] - 0s 0us/step\n",
            "Downloading data from https://storage.googleapis.com/tensorflow/tf-keras-datasets/t10k-labels-idx1-ubyte.gz\n",
            "16384/5148 [===============================================================================================] - 0s 0us/step\n",
            "Downloading data from https://storage.googleapis.com/tensorflow/tf-keras-datasets/t10k-images-idx3-ubyte.gz\n",
            "4423680/4422102 [==============================] - 0s 0us/step\n",
            "4431872/4422102 [==============================] - 0s 0us/step\n"
          ]
        }
      ],
      "source": [
        "# TASK: Create DNN model (using keras) for fashion MNIST dataset.\n",
        "\n",
        "\n",
        "\n",
        "# - Plot the data\n",
        "# - How many classes are there?\n",
        "# - Train NN classifier using keras\n",
        "# - Can you make a model that is able to overfit the data?\n",
        "# - Play with dropout and different architectures\n",
        "\n",
        "import matplotlib.pyplot as plt\n",
        "\n",
        "from tensorflow import keras\n",
        "(X_train, y_train), (X_test, y_test) = keras.datasets.fashion_mnist.load_data()\n",
        "#(X_train, y_train), (X_test, y_test) = keras.datasets.fashion_mnist.load_data()"
      ]
    },
    {
      "cell_type": "code",
      "execution_count": 53,
      "id": "0c7d3770",
      "metadata": {
        "colab": {
          "base_uri": "https://localhost:8080/"
        },
        "id": "0c7d3770",
        "outputId": "708225fa-4665-449a-daba-8522d4277867"
      },
      "outputs": [
        {
          "output_type": "execute_result",
          "data": {
            "text/plain": [
              "(7000, 50, 50)"
            ]
          },
          "metadata": {},
          "execution_count": 53
        }
      ],
      "source": [
        "X_train.shape"
      ]
    },
    {
      "cell_type": "code",
      "execution_count": 54,
      "id": "576e391b",
      "metadata": {
        "colab": {
          "base_uri": "https://localhost:8080/"
        },
        "id": "576e391b",
        "outputId": "b4b7324c-53c6-427e-c2a5-d0a2fba32005"
      },
      "outputs": [
        {
          "output_type": "execute_result",
          "data": {
            "text/plain": [
              "(3000, 50, 50)"
            ]
          },
          "metadata": {},
          "execution_count": 54
        }
      ],
      "source": [
        "X_test.shape"
      ]
    },
    {
      "cell_type": "code",
      "execution_count": 43,
      "id": "bd451a6e",
      "metadata": {
        "colab": {
          "base_uri": "https://localhost:8080/",
          "height": 284
        },
        "id": "bd451a6e",
        "outputId": "25ce8796-9eba-4a06-f055-3315fe622da8"
      },
      "outputs": [
        {
          "output_type": "execute_result",
          "data": {
            "text/plain": [
              "<matplotlib.image.AxesImage at 0x7f8bb87a13d0>"
            ]
          },
          "metadata": {},
          "execution_count": 43
        },
        {
          "output_type": "display_data",
          "data": {
            "image/png": "[encoded data removed]",
            "text/plain": [
              "<Figure size 432x288 with 1 Axes>"
            ]
          },
          "metadata": {
            "needs_background": "light"
          }
        }
      ],
      "source": [
        "\n",
        "plt.imshow(X_test[0],cmap='gray',vmin=0)"
      ]
    },
    {
      "cell_type": "code",
      "execution_count": 40,
      "id": "b232250e",
      "metadata": {
        "colab": {
          "base_uri": "https://localhost:8080/",
          "height": 77
        },
        "id": "b232250e",
        "outputId": "27179936-2d49-4a74-b5ff-2a5736a0057f"
      },
      "outputs": [
        {
          "output_type": "display_data",
          "data": {
            "image/png": "[encoded data removed]",
            "text/plain": [
              "<Figure size 720x720 with 10 Axes>"
            ]
          },
          "metadata": {
            "needs_background": "light"
          }
        }
      ],
      "source": [
        "plt.figure(figsize=(10, 10))\n",
        "for i in range(10):\n",
        "        plt.subplot(10, 10, 10 + i + 1)\n",
        "        plt.imshow(X_test[i], cmap='gray')\n",
        "        plt.axis('off')\n",
        "plt.show()"
      ]
    },
    {
      "cell_type": "code",
      "execution_count": 47,
      "id": "f636c4e1",
      "metadata": {
        "colab": {
          "base_uri": "https://localhost:8080/",
          "height": 105
        },
        "id": "f636c4e1",
        "outputId": "00fdf650-9ee3-419a-ace2-1d8cb25de7a8"
      },
      "outputs": [
        {
          "output_type": "display_data",
          "data": {
            "image/png": "[encoded data removed]",
            "text/plain": [
              "<Figure size 432x288 with 5 Axes>"
            ]
          },
          "metadata": {
            "needs_background": "light"
          }
        }
      ],
      "source": [
        "for i in range(5):\n",
        "    idx= np.where(y_train == i)[0][0]\n",
        "    plt.subplot(2,5,i+1)\n",
        "    plt.imshow(X_train[idx],cmap='gray')\n",
        "    plt.title(i)\n",
        "    plt.axis('off')\n",
        "plt.show() # padarem po viena skirtinga is kiekvienos klases"
      ]
    },
    {
      "cell_type": "code",
      "execution_count": 48,
      "id": "9965ca4a",
      "metadata": {
        "colab": {
          "base_uri": "https://localhost:8080/"
        },
        "id": "9965ca4a",
        "outputId": "bad1aacf-b2c6-4db3-c02b-903009b05d34"
      },
      "outputs": [
        {
          "output_type": "execute_result",
          "data": {
            "text/plain": [
              "Counter({0.0: 1381, 1.0: 2853, 2.0: 1868, 3.0: 2137, 4.0: 1761})"
            ]
          },
          "metadata": {},
          "execution_count": 48
        }
      ],
      "source": [
        "#kiek turim klasiu?\n",
        "from collections import Counter \n",
        "\n",
        "Counter(y)"
      ]
    },
    {
      "cell_type": "code",
      "execution_count": 49,
      "id": "7afd0ab6",
      "metadata": {
        "colab": {
          "base_uri": "https://localhost:8080/"
        },
        "id": "7afd0ab6",
        "outputId": "b383a097-b825-4f1d-e81d-8163387fe1ec"
      },
      "outputs": [
        {
          "output_type": "execute_result",
          "data": {
            "text/plain": [
              "(array([0., 1., 2., 3., 4.]), array([ 925, 2005, 1319, 1508, 1243]))"
            ]
          },
          "metadata": {},
          "execution_count": 49
        }
      ],
      "source": [
        "import numpy as np \n",
        "\n",
        "np.unique(y_train,return_counts=True)"
      ]
    },
    {
      "cell_type": "code",
      "execution_count": 55,
      "id": "f132e2c7",
      "metadata": {
        "collapsed": true,
        "colab": {
          "base_uri": "https://localhost:8080/"
        },
        "id": "f132e2c7",
        "outputId": "500bb3a8-3938-4e34-e64f-7f5450bee58a"
      },
      "outputs": [
        {
          "output_type": "execute_result",
          "data": {
            "text/plain": [
              "array([[0., 0., 0., ..., 0., 0., 0.],\n",
              "       [0., 0., 0., ..., 0., 0., 0.],\n",
              "       [0., 0., 0., ..., 0., 0., 0.],\n",
              "       ...,\n",
              "       [0., 0., 0., ..., 0., 0., 0.],\n",
              "       [0., 0., 0., ..., 0., 0., 0.],\n",
              "       [0., 0., 0., ..., 0., 0., 0.]])"
            ]
          },
          "metadata": {},
          "execution_count": 55
        }
      ],
      "source": [
        "X_train[0] #kad butu gerai, turi buti mazas vidurkis \n",
        "#ir standartinis nuokrypis! pasidalinam prad=io datasete is 255"
      ]
    },
    {
      "cell_type": "code",
      "execution_count": 51,
      "id": "3633b46d",
      "metadata": {
        "id": "3633b46d"
      },
      "outputs": [],
      "source": [
        "#X_train = X_train/255\n",
        "#X_test = X_test/255\n",
        "#ARBA su standard scaler\n",
        "# mean=X_train.mean()\n",
        "# std = X_train.std()"
      ]
    },
    {
      "cell_type": "code",
      "execution_count": 63,
      "id": "ef80b5fe",
      "metadata": {
        "colab": {
          "base_uri": "https://localhost:8080/"
        },
        "id": "ef80b5fe",
        "outputId": "bc169dc6-ad1d-474c-e5a1-09421b48d135"
      },
      "outputs": [
        {
          "output_type": "stream",
          "name": "stdout",
          "text": [
            "Model: \"sequential_4\"\n",
            "_________________________________________________________________\n",
            " Layer (type)                Output Shape              Param #   \n",
            "=================================================================\n",
            " flatten_4 (Flatten)         (None, 2500)              0         \n",
            "                                                                 \n",
            " dense_11 (Dense)            (None, 40)                100040    \n",
            "                                                                 \n",
            " dense_12 (Dense)            (None, 20)                820       \n",
            "                                                                 \n",
            " dense_13 (Dense)            (None, 10)                210       \n",
            "                                                                 \n",
            "=================================================================\n",
            "Total params: 101,070\n",
            "Trainable params: 101,070\n",
            "Non-trainable params: 0\n",
            "_________________________________________________________________\n"
          ]
        }
      ],
      "source": [
        "model = keras.models.Sequential()\n",
        "# all data pre-processing should be in keras model!\n",
        "model.add(keras.layers.Flatten(input_shape=(50,50)))\n",
        "model.add(keras.layers.Dense(40,activation='relu')) \n",
        "model.add(keras.layers.Dense(20,activation='relu'))\n",
        "model.add(keras.layers.Dense(10,activation='softmax')) \n",
        "model.compile(loss='sparse_categorical_crossentropy',\n",
        "             optimizer=keras.optimizers.SGD(learning_rate=0.01),\n",
        "             metrics=['accuracy'])\n",
        "#if you use categorical_crossentropy then it expects one hot encoded output\n",
        "model.summary()\n"
      ]
    },
    {
      "cell_type": "code",
      "execution_count": 64,
      "id": "37d53b24",
      "metadata": {
        "scrolled": false,
        "colab": {
          "base_uri": "https://localhost:8080/"
        },
        "id": "37d53b24",
        "outputId": "1eb77895-c965-447d-ed4f-65391bc7380c"
      },
      "outputs": [
        {
          "output_type": "stream",
          "name": "stdout",
          "text": [
            "Epoch 1/5\n",
            "219/219 [==============================] - 2s 6ms/step - loss: 1.6854 - accuracy: 0.3523 - val_loss: 1.4473 - val_accuracy: 0.4277\n",
            "Epoch 2/5\n",
            "219/219 [==============================] - 1s 5ms/step - loss: 1.3712 - accuracy: 0.4556 - val_loss: 1.3207 - val_accuracy: 0.4827\n",
            "Epoch 3/5\n",
            "219/219 [==============================] - 1s 5ms/step - loss: 1.2705 - accuracy: 0.4811 - val_loss: 1.3219 - val_accuracy: 0.4797\n",
            "Epoch 4/5\n",
            "219/219 [==============================] - 1s 5ms/step - loss: 1.2193 - accuracy: 0.4886 - val_loss: 1.2217 - val_accuracy: 0.4943\n",
            "Epoch 5/5\n",
            "219/219 [==============================] - 1s 5ms/step - loss: 1.1873 - accuracy: 0.5007 - val_loss: 1.1870 - val_accuracy: 0.4887\n"
          ]
        }
      ],
      "source": [
        "loss = model.fit(X_train, y_train, validation_data=(X_test, y_test), epochs=5)"
      ]
    },
    {
      "cell_type": "code",
      "execution_count": 65,
      "id": "663298d7",
      "metadata": {
        "id": "663298d7"
      },
      "outputs": [],
      "source": [
        "import pandas as pd"
      ]
    },
    {
      "cell_type": "code",
      "execution_count": 66,
      "id": "ca4e2db3",
      "metadata": {
        "scrolled": true,
        "colab": {
          "base_uri": "https://localhost:8080/",
          "height": 282
        },
        "id": "ca4e2db3",
        "outputId": "7f694bad-0011-49f9-ebe7-05745cc8c031"
      },
      "outputs": [
        {
          "output_type": "execute_result",
          "data": {
            "text/plain": [
              "<matplotlib.axes._subplots.AxesSubplot at 0x7f8bb2916650>"
            ]
          },
          "metadata": {},
          "execution_count": 66
        },
        {
          "output_type": "display_data",
          "data": {
            "image/png": "[encoded data removed]",
            "text/plain": [
              "<Figure size 432x288 with 1 Axes>"
            ]
          },
          "metadata": {
            "needs_background": "light"
          }
        }
      ],
      "source": [
        "pd.DataFrame(loss.history)[['loss','val_loss']].plot()"
      ]
    },
    {
      "cell_type": "markdown",
      "id": "e20154c2",
      "metadata": {
        "id": "e20154c2"
      },
      "source": [
        "Pakaitaliojam learning rate optimizeryje "
      ]
    },
    {
      "cell_type": "code",
      "execution_count": null,
      "id": "17aebb0a",
      "metadata": {
        "id": "17aebb0a"
      },
      "outputs": [],
      "source": [
        "#X_train = X_train/255\n",
        "#X_test = X_test/255"
      ]
    },
    {
      "cell_type": "code",
      "execution_count": 76,
      "id": "d2e15015",
      "metadata": {
        "colab": {
          "base_uri": "https://localhost:8080/"
        },
        "id": "d2e15015",
        "outputId": "5aa61f23-7a29-4015-cdfb-4ae907aa8d7f"
      },
      "outputs": [
        {
          "output_type": "stream",
          "name": "stdout",
          "text": [
            "Model: \"sequential_8\"\n",
            "_________________________________________________________________\n",
            " Layer (type)                Output Shape              Param #   \n",
            "=================================================================\n",
            " flatten_8 (Flatten)         (None, 2500)              0         \n",
            "                                                                 \n",
            " dense_25 (Dense)            (None, 40)                100040    \n",
            "                                                                 \n",
            " dense_26 (Dense)            (None, 20)                820       \n",
            "                                                                 \n",
            " dense_27 (Dense)            (None, 10)                210       \n",
            "                                                                 \n",
            "=================================================================\n",
            "Total params: 101,070\n",
            "Trainable params: 101,070\n",
            "Non-trainable params: 0\n",
            "_________________________________________________________________\n"
          ]
        }
      ],
      "source": [
        "model = keras.models.Sequential()\n",
        "# all data pre-processing should be in keras model!\n",
        "model.add(keras.layers.Flatten(input_shape=(50,50)))\n",
        "model.add(keras.layers.Dense(40,activation='relu')) \n",
        "model.add(keras.layers.Dense(20,activation='relu'))\n",
        "model.add(keras.layers.Dense(10,activation='softmax')) \n",
        "model.compile(loss='sparse_categorical_crossentropy',\n",
        "             #optimizer='adam', #NAUJAS OPTIMIZERIS, GALI LABAI PADET!!!\n",
        "             optimizer = keras.optimizers.Adam(learning_rate=3e-4),\n",
        "              metrics=['accuracy'])\n",
        "#if you use categorical_crossentropy then it expects one hot encoded output\n",
        "model.summary()\n"
      ]
    },
    {
      "cell_type": "code",
      "execution_count": 78,
      "id": "bea6a0ba",
      "metadata": {
        "scrolled": true,
        "colab": {
          "base_uri": "https://localhost:8080/"
        },
        "id": "bea6a0ba",
        "outputId": "7768ca44-c123-48ac-a2cb-4183937f417f"
      },
      "outputs": [
        {
          "output_type": "stream",
          "name": "stdout",
          "text": [
            "Epoch 1/30\n",
            "219/219 [==============================] - 1s 5ms/step - loss: 0.5177 - accuracy: 0.8076 - val_loss: 0.7668 - val_accuracy: 0.6897\n",
            "Epoch 2/30\n",
            "219/219 [==============================] - 1s 5ms/step - loss: 0.5014 - accuracy: 0.8117 - val_loss: 0.7303 - val_accuracy: 0.6967\n",
            "Epoch 3/30\n",
            "219/219 [==============================] - 1s 5ms/step - loss: 0.4826 - accuracy: 0.8233 - val_loss: 0.7533 - val_accuracy: 0.6947\n",
            "Epoch 4/30\n",
            "219/219 [==============================] - 1s 5ms/step - loss: 0.4646 - accuracy: 0.8316 - val_loss: 0.7353 - val_accuracy: 0.7117\n",
            "Epoch 5/30\n",
            "219/219 [==============================] - 1s 5ms/step - loss: 0.4536 - accuracy: 0.8336 - val_loss: 0.7156 - val_accuracy: 0.7063\n",
            "Epoch 6/30\n",
            "219/219 [==============================] - 1s 6ms/step - loss: 0.4405 - accuracy: 0.8387 - val_loss: 0.7612 - val_accuracy: 0.6737\n",
            "Epoch 7/30\n",
            "219/219 [==============================] - 1s 6ms/step - loss: 0.4311 - accuracy: 0.8423 - val_loss: 0.7189 - val_accuracy: 0.7113\n",
            "Epoch 8/30\n",
            "219/219 [==============================] - 1s 5ms/step - loss: 0.4112 - accuracy: 0.8487 - val_loss: 0.7110 - val_accuracy: 0.7123\n",
            "Epoch 9/30\n",
            "219/219 [==============================] - 1s 5ms/step - loss: 0.3986 - accuracy: 0.8546 - val_loss: 0.7046 - val_accuracy: 0.7267\n",
            "Epoch 10/30\n",
            "219/219 [==============================] - 1s 5ms/step - loss: 0.3859 - accuracy: 0.8596 - val_loss: 0.7113 - val_accuracy: 0.7263\n",
            "Epoch 11/30\n",
            "219/219 [==============================] - 1s 5ms/step - loss: 0.3762 - accuracy: 0.8624 - val_loss: 0.7201 - val_accuracy: 0.7270\n",
            "Epoch 12/30\n",
            "219/219 [==============================] - 1s 5ms/step - loss: 0.3667 - accuracy: 0.8697 - val_loss: 0.7074 - val_accuracy: 0.7273\n",
            "Epoch 13/30\n",
            "219/219 [==============================] - 1s 5ms/step - loss: 0.3555 - accuracy: 0.8751 - val_loss: 0.7170 - val_accuracy: 0.7333\n",
            "Epoch 14/30\n",
            "219/219 [==============================] - 1s 5ms/step - loss: 0.3404 - accuracy: 0.8800 - val_loss: 0.7074 - val_accuracy: 0.7393\n",
            "Epoch 15/30\n",
            "219/219 [==============================] - 1s 5ms/step - loss: 0.3286 - accuracy: 0.8826 - val_loss: 0.7124 - val_accuracy: 0.7357\n",
            "Epoch 16/30\n",
            "219/219 [==============================] - 1s 5ms/step - loss: 0.3166 - accuracy: 0.8911 - val_loss: 0.7221 - val_accuracy: 0.7283\n",
            "Epoch 17/30\n",
            "219/219 [==============================] - 1s 5ms/step - loss: 0.3127 - accuracy: 0.8909 - val_loss: 0.7551 - val_accuracy: 0.7237\n",
            "Epoch 18/30\n",
            "219/219 [==============================] - 1s 5ms/step - loss: 0.2986 - accuracy: 0.8964 - val_loss: 0.7240 - val_accuracy: 0.7380\n",
            "Epoch 19/30\n",
            "219/219 [==============================] - 1s 5ms/step - loss: 0.2883 - accuracy: 0.8993 - val_loss: 0.6966 - val_accuracy: 0.7467\n",
            "Epoch 20/30\n",
            "219/219 [==============================] - 1s 5ms/step - loss: 0.2840 - accuracy: 0.9059 - val_loss: 0.7373 - val_accuracy: 0.7263\n",
            "Epoch 21/30\n",
            "219/219 [==============================] - 1s 5ms/step - loss: 0.2723 - accuracy: 0.9069 - val_loss: 0.7171 - val_accuracy: 0.7460\n",
            "Epoch 22/30\n",
            "219/219 [==============================] - 1s 5ms/step - loss: 0.2605 - accuracy: 0.9139 - val_loss: 0.7550 - val_accuracy: 0.7340\n",
            "Epoch 23/30\n",
            "219/219 [==============================] - 1s 5ms/step - loss: 0.2542 - accuracy: 0.9164 - val_loss: 0.7358 - val_accuracy: 0.7413\n",
            "Epoch 24/30\n",
            "219/219 [==============================] - 1s 5ms/step - loss: 0.2422 - accuracy: 0.9183 - val_loss: 0.7123 - val_accuracy: 0.7490\n",
            "Epoch 25/30\n",
            "219/219 [==============================] - 1s 5ms/step - loss: 0.2404 - accuracy: 0.9196 - val_loss: 0.7209 - val_accuracy: 0.7507\n",
            "Epoch 26/30\n",
            "219/219 [==============================] - 1s 5ms/step - loss: 0.2300 - accuracy: 0.9210 - val_loss: 0.7386 - val_accuracy: 0.7507\n",
            "Epoch 27/30\n",
            "219/219 [==============================] - 1s 5ms/step - loss: 0.2210 - accuracy: 0.9276 - val_loss: 0.7114 - val_accuracy: 0.7680\n",
            "Epoch 28/30\n",
            "219/219 [==============================] - 1s 5ms/step - loss: 0.2082 - accuracy: 0.9334 - val_loss: 0.7484 - val_accuracy: 0.7483\n",
            "Epoch 29/30\n",
            "219/219 [==============================] - 1s 5ms/step - loss: 0.2047 - accuracy: 0.9353 - val_loss: 0.7522 - val_accuracy: 0.7453\n",
            "Epoch 30/30\n",
            "219/219 [==============================] - 1s 5ms/step - loss: 0.1926 - accuracy: 0.9407 - val_loss: 0.7713 - val_accuracy: 0.7493\n"
          ]
        }
      ],
      "source": [
        "loss = model.fit(X_train, y_train, validation_data=(X_test, y_test), epochs=30)"
      ]
    },
    {
      "cell_type": "code",
      "execution_count": 69,
      "id": "0192753c",
      "metadata": {
        "colab": {
          "base_uri": "https://localhost:8080/",
          "height": 282
        },
        "id": "0192753c",
        "outputId": "fe22aa4c-2b49-4fd3-cf77-d4b623948a1f"
      },
      "outputs": [
        {
          "output_type": "execute_result",
          "data": {
            "text/plain": [
              "<matplotlib.axes._subplots.AxesSubplot at 0x7f8bb29c10d0>"
            ]
          },
          "metadata": {},
          "execution_count": 69
        },
        {
          "output_type": "display_data",
          "data": {
            "image/png": "[encoded data removed]",
            "text/plain": [
              "<Figure size 432x288 with 1 Axes>"
            ]
          },
          "metadata": {
            "needs_background": "light"
          }
        }
      ],
      "source": [
        "pd.DataFrame(loss.history)[['loss','val_loss']].plot()"
      ]
    },
    {
      "cell_type": "markdown",
      "id": "0b39802d",
      "metadata": {
        "id": "0b39802d"
      },
      "source": [
        "Bandom overfittint"
      ]
    },
    {
      "cell_type": "code",
      "execution_count": 79,
      "id": "6e7dcd7b",
      "metadata": {
        "colab": {
          "base_uri": "https://localhost:8080/"
        },
        "id": "6e7dcd7b",
        "outputId": "bb9783f6-97f2-4905-9dea-ca4d5c33d0b1"
      },
      "outputs": [
        {
          "output_type": "stream",
          "name": "stdout",
          "text": [
            "Model: \"sequential_9\"\n",
            "_________________________________________________________________\n",
            " Layer (type)                Output Shape              Param #   \n",
            "=================================================================\n",
            " flatten_9 (Flatten)         (None, 2500)              0         \n",
            "                                                                 \n",
            " dense_28 (Dense)            (None, 256)               640256    \n",
            "                                                                 \n",
            " dense_29 (Dense)            (None, 128)               32896     \n",
            "                                                                 \n",
            " dense_30 (Dense)            (None, 64)                8256      \n",
            "                                                                 \n",
            " dense_31 (Dense)            (None, 10)                650       \n",
            "                                                                 \n",
            "=================================================================\n",
            "Total params: 682,058\n",
            "Trainable params: 682,058\n",
            "Non-trainable params: 0\n",
            "_________________________________________________________________\n"
          ]
        }
      ],
      "source": [
        "model = keras.models.Sequential()\n",
        "# all data pre-processing should be in keras model!\n",
        "model.add(keras.layers.Flatten(input_shape=(50,50)))\n",
        "model.add(keras.layers.Dense(256,activation='relu')) \n",
        "model.add(keras.layers.Dense(128,activation='relu')) \n",
        "model.add(keras.layers.Dense(64,activation='relu'))\n",
        "model.add(keras.layers.Dense(10,activation='softmax')) \n",
        "model.compile(loss='sparse_categorical_crossentropy',\n",
        "             #optimizer='adam', #NAUJAS OPTIMIZERIS, GALI LABAI PADET!!!\n",
        "             optimizer = keras.optimizers.Adam(learning_rate=3e-4),\n",
        "              metrics=['accuracy'])\n",
        "#if you use categorical_crossentropy then it expects one hot encoded output\n",
        "model.summary()"
      ]
    },
    {
      "cell_type": "code",
      "execution_count": 80,
      "id": "823b991d",
      "metadata": {
        "scrolled": true,
        "colab": {
          "base_uri": "https://localhost:8080/"
        },
        "id": "823b991d",
        "outputId": "37e7fd8f-515e-4582-e94c-6e756a8c3dc6"
      },
      "outputs": [
        {
          "output_type": "stream",
          "name": "stdout",
          "text": [
            "Epoch 1/20\n",
            "219/219 [==============================] - 2s 7ms/step - loss: 1.3559 - accuracy: 0.4414 - val_loss: 1.1964 - val_accuracy: 0.4983\n",
            "Epoch 2/20\n",
            "219/219 [==============================] - 1s 6ms/step - loss: 1.1024 - accuracy: 0.5363 - val_loss: 1.0655 - val_accuracy: 0.5370\n",
            "Epoch 3/20\n",
            "219/219 [==============================] - 1s 6ms/step - loss: 0.9224 - accuracy: 0.6237 - val_loss: 0.9152 - val_accuracy: 0.6120\n",
            "Epoch 4/20\n",
            "219/219 [==============================] - 1s 6ms/step - loss: 0.7758 - accuracy: 0.6881 - val_loss: 0.8335 - val_accuracy: 0.6457\n",
            "Epoch 5/20\n",
            "219/219 [==============================] - 1s 6ms/step - loss: 0.6705 - accuracy: 0.7349 - val_loss: 0.7553 - val_accuracy: 0.6860\n",
            "Epoch 6/20\n",
            "219/219 [==============================] - 1s 5ms/step - loss: 0.6038 - accuracy: 0.7603 - val_loss: 0.7538 - val_accuracy: 0.6873\n",
            "Epoch 7/20\n",
            "219/219 [==============================] - 1s 5ms/step - loss: 0.5509 - accuracy: 0.7863 - val_loss: 0.7107 - val_accuracy: 0.7147\n",
            "Epoch 8/20\n",
            "219/219 [==============================] - 1s 6ms/step - loss: 0.5121 - accuracy: 0.7979 - val_loss: 0.6581 - val_accuracy: 0.7290\n",
            "Epoch 9/20\n",
            "219/219 [==============================] - 1s 6ms/step - loss: 0.4719 - accuracy: 0.8096 - val_loss: 0.6438 - val_accuracy: 0.7287\n",
            "Epoch 10/20\n",
            "219/219 [==============================] - 1s 6ms/step - loss: 0.4409 - accuracy: 0.8256 - val_loss: 0.6347 - val_accuracy: 0.7460\n",
            "Epoch 11/20\n",
            "219/219 [==============================] - 1s 6ms/step - loss: 0.4108 - accuracy: 0.8351 - val_loss: 0.6579 - val_accuracy: 0.7557\n",
            "Epoch 12/20\n",
            "219/219 [==============================] - 1s 5ms/step - loss: 0.3870 - accuracy: 0.8397 - val_loss: 0.5924 - val_accuracy: 0.7643\n",
            "Epoch 13/20\n",
            "219/219 [==============================] - 1s 5ms/step - loss: 0.3660 - accuracy: 0.8513 - val_loss: 0.6141 - val_accuracy: 0.7703\n",
            "Epoch 14/20\n",
            "219/219 [==============================] - 1s 6ms/step - loss: 0.3367 - accuracy: 0.8610 - val_loss: 0.6208 - val_accuracy: 0.7800\n",
            "Epoch 15/20\n",
            "219/219 [==============================] - 1s 5ms/step - loss: 0.3224 - accuracy: 0.8739 - val_loss: 0.6162 - val_accuracy: 0.7800\n",
            "Epoch 16/20\n",
            "219/219 [==============================] - 1s 6ms/step - loss: 0.2996 - accuracy: 0.8751 - val_loss: 0.6209 - val_accuracy: 0.7753\n",
            "Epoch 17/20\n",
            "219/219 [==============================] - 1s 6ms/step - loss: 0.2775 - accuracy: 0.8869 - val_loss: 0.6755 - val_accuracy: 0.7450\n",
            "Epoch 18/20\n",
            "219/219 [==============================] - 1s 6ms/step - loss: 0.2569 - accuracy: 0.8991 - val_loss: 0.6325 - val_accuracy: 0.7853\n",
            "Epoch 19/20\n",
            "219/219 [==============================] - 1s 6ms/step - loss: 0.2377 - accuracy: 0.9084 - val_loss: 0.5683 - val_accuracy: 0.8003\n",
            "Epoch 20/20\n",
            "219/219 [==============================] - 1s 6ms/step - loss: 0.2156 - accuracy: 0.9197 - val_loss: 0.6225 - val_accuracy: 0.8017\n"
          ]
        }
      ],
      "source": [
        "loss = model.fit(X_train, y_train, validation_data=(X_test, y_test), epochs=20)"
      ]
    },
    {
      "cell_type": "code",
      "execution_count": null,
      "id": "1be5521d",
      "metadata": {
        "id": "1be5521d"
      },
      "outputs": [],
      "source": [
        "pd.DataFrame(loss.history)[['loss','val_loss']].plot()"
      ]
    },
    {
      "cell_type": "markdown",
      "id": "41a3ceb1",
      "metadata": {
        "id": "41a3ceb1"
      },
      "source": [
        "# Bandom su dropoutu"
      ]
    },
    {
      "cell_type": "code",
      "execution_count": 72,
      "id": "2390bba4",
      "metadata": {
        "colab": {
          "base_uri": "https://localhost:8080/"
        },
        "id": "2390bba4",
        "outputId": "57a4ab05-08e6-4d5b-cdb0-4acfd6adfb2d"
      },
      "outputs": [
        {
          "output_type": "stream",
          "name": "stdout",
          "text": [
            "Model: \"sequential_7\"\n",
            "_________________________________________________________________\n",
            " Layer (type)                Output Shape              Param #   \n",
            "=================================================================\n",
            " flatten_7 (Flatten)         (None, 784)               0         \n",
            "                                                                 \n",
            " dense_21 (Dense)            (None, 256)               200960    \n",
            "                                                                 \n",
            " dropout (Dropout)           (None, 256)               0         \n",
            "                                                                 \n",
            " dense_22 (Dense)            (None, 128)               32896     \n",
            "                                                                 \n",
            " dropout_1 (Dropout)         (None, 128)               0         \n",
            "                                                                 \n",
            " dense_23 (Dense)            (None, 64)                8256      \n",
            "                                                                 \n",
            " dropout_2 (Dropout)         (None, 64)                0         \n",
            "                                                                 \n",
            " dense_24 (Dense)            (None, 10)                650       \n",
            "                                                                 \n",
            "=================================================================\n",
            "Total params: 242,762\n",
            "Trainable params: 242,762\n",
            "Non-trainable params: 0\n",
            "_________________________________________________________________\n"
          ]
        }
      ],
      "source": [
        "model = keras.models.Sequential()\n",
        "# all data pre-processing should be in keras model!\n",
        "model.add(keras.layers.Flatten(input_shape=(28,28)))\n",
        "model.add(keras.layers.Dense(256,activation='relu')) \n",
        "model.add(keras.layers.Dropout(0,4))\n",
        "model.add(keras.layers.Dense(128,activation='relu')) \n",
        "model.add(keras.layers.Dropout(0,4))\n",
        "model.add(keras.layers.Dense(64,activation='relu'))\n",
        "model.add(keras.layers.Dropout(0,4))\n",
        "model.add(keras.layers.Dense(10,activation='softmax')) \n",
        "model.compile(loss='sparse_categorical_crossentropy',\n",
        "             #optimizer='adam', #NAUJAS OPTIMIZERIS, GALI LABAI PADET!!!\n",
        "             optimizer = keras.optimizers.Adam(learning_rate=3e-4),\n",
        "              metrics=['accuracy'])\n",
        "#if you use categorical_crossentropy then it expects one hot encoded output\n",
        "model.summary()"
      ]
    },
    {
      "cell_type": "code",
      "execution_count": 73,
      "id": "69a9879f",
      "metadata": {
        "id": "69a9879f"
      },
      "outputs": [],
      "source": [
        "keras.layers.Dropout?"
      ]
    },
    {
      "cell_type": "code",
      "execution_count": 74,
      "id": "a60812f9",
      "metadata": {
        "colab": {
          "base_uri": "https://localhost:8080/",
          "height": 623
        },
        "id": "a60812f9",
        "outputId": "a03c5702-86ed-4620-b492-8f0f0ef5a86d"
      },
      "outputs": [
        {
          "output_type": "stream",
          "name": "stdout",
          "text": [
            "Epoch 1/50\n"
          ]
        },
        {
          "output_type": "error",
          "ename": "ValueError",
          "evalue": "ignored",
          "traceback": [
            "\u001b[0;31m---------------------------------------------------------------------------\u001b[0m",
            "\u001b[0;31mValueError\u001b[0m                                Traceback (most recent call last)",
            "\u001b[0;32m<ipython-input-74-4c121e344245>\u001b[0m in \u001b[0;36m<module>\u001b[0;34m()\u001b[0m\n\u001b[1;32m      1\u001b[0m loss = model.fit(X_train, y_train, validation_data=(X_test, y_test), epochs=50,\n\u001b[0;32m----> 2\u001b[0;31m                 batch_size=156)\n\u001b[0m\u001b[1;32m      3\u001b[0m \u001b[0mpd\u001b[0m\u001b[0;34m.\u001b[0m\u001b[0mDataFrame\u001b[0m\u001b[0;34m(\u001b[0m\u001b[0mloss\u001b[0m\u001b[0;34m.\u001b[0m\u001b[0mhistory\u001b[0m\u001b[0;34m)\u001b[0m\u001b[0;34m[\u001b[0m\u001b[0;34m[\u001b[0m\u001b[0;34m'loss'\u001b[0m\u001b[0;34m,\u001b[0m\u001b[0;34m'val_loss'\u001b[0m\u001b[0;34m]\u001b[0m\u001b[0;34m]\u001b[0m\u001b[0;34m.\u001b[0m\u001b[0mplot\u001b[0m\u001b[0;34m(\u001b[0m\u001b[0;34m)\u001b[0m\u001b[0;34m\u001b[0m\u001b[0;34m\u001b[0m\u001b[0m\n",
            "\u001b[0;32m/usr/local/lib/python3.7/dist-packages/keras/utils/traceback_utils.py\u001b[0m in \u001b[0;36merror_handler\u001b[0;34m(*args, **kwargs)\u001b[0m\n\u001b[1;32m     65\u001b[0m     \u001b[0;32mexcept\u001b[0m \u001b[0mException\u001b[0m \u001b[0;32mas\u001b[0m \u001b[0me\u001b[0m\u001b[0;34m:\u001b[0m  \u001b[0;31m# pylint: disable=broad-except\u001b[0m\u001b[0;34m\u001b[0m\u001b[0;34m\u001b[0m\u001b[0m\n\u001b[1;32m     66\u001b[0m       \u001b[0mfiltered_tb\u001b[0m \u001b[0;34m=\u001b[0m \u001b[0m_process_traceback_frames\u001b[0m\u001b[0;34m(\u001b[0m\u001b[0me\u001b[0m\u001b[0;34m.\u001b[0m\u001b[0m__traceback__\u001b[0m\u001b[0;34m)\u001b[0m\u001b[0;34m\u001b[0m\u001b[0;34m\u001b[0m\u001b[0m\n\u001b[0;32m---> 67\u001b[0;31m       \u001b[0;32mraise\u001b[0m \u001b[0me\u001b[0m\u001b[0;34m.\u001b[0m\u001b[0mwith_traceback\u001b[0m\u001b[0;34m(\u001b[0m\u001b[0mfiltered_tb\u001b[0m\u001b[0;34m)\u001b[0m \u001b[0;32mfrom\u001b[0m \u001b[0;32mNone\u001b[0m\u001b[0;34m\u001b[0m\u001b[0;34m\u001b[0m\u001b[0m\n\u001b[0m\u001b[1;32m     68\u001b[0m     \u001b[0;32mfinally\u001b[0m\u001b[0;34m:\u001b[0m\u001b[0;34m\u001b[0m\u001b[0;34m\u001b[0m\u001b[0m\n\u001b[1;32m     69\u001b[0m       \u001b[0;32mdel\u001b[0m \u001b[0mfiltered_tb\u001b[0m\u001b[0;34m\u001b[0m\u001b[0;34m\u001b[0m\u001b[0m\n",
            "\u001b[0;32m/usr/local/lib/python3.7/dist-packages/tensorflow/python/framework/func_graph.py\u001b[0m in \u001b[0;36mautograph_handler\u001b[0;34m(*args, **kwargs)\u001b[0m\n\u001b[1;32m   1127\u001b[0m           \u001b[0;32mexcept\u001b[0m \u001b[0mException\u001b[0m \u001b[0;32mas\u001b[0m \u001b[0me\u001b[0m\u001b[0;34m:\u001b[0m  \u001b[0;31m# pylint:disable=broad-except\u001b[0m\u001b[0;34m\u001b[0m\u001b[0;34m\u001b[0m\u001b[0m\n\u001b[1;32m   1128\u001b[0m             \u001b[0;32mif\u001b[0m \u001b[0mhasattr\u001b[0m\u001b[0;34m(\u001b[0m\u001b[0me\u001b[0m\u001b[0;34m,\u001b[0m \u001b[0;34m\"ag_error_metadata\"\u001b[0m\u001b[0;34m)\u001b[0m\u001b[0;34m:\u001b[0m\u001b[0;34m\u001b[0m\u001b[0;34m\u001b[0m\u001b[0m\n\u001b[0;32m-> 1129\u001b[0;31m               \u001b[0;32mraise\u001b[0m \u001b[0me\u001b[0m\u001b[0;34m.\u001b[0m\u001b[0mag_error_metadata\u001b[0m\u001b[0;34m.\u001b[0m\u001b[0mto_exception\u001b[0m\u001b[0;34m(\u001b[0m\u001b[0me\u001b[0m\u001b[0;34m)\u001b[0m\u001b[0;34m\u001b[0m\u001b[0;34m\u001b[0m\u001b[0m\n\u001b[0m\u001b[1;32m   1130\u001b[0m             \u001b[0;32melse\u001b[0m\u001b[0;34m:\u001b[0m\u001b[0;34m\u001b[0m\u001b[0;34m\u001b[0m\u001b[0m\n\u001b[1;32m   1131\u001b[0m               \u001b[0;32mraise\u001b[0m\u001b[0;34m\u001b[0m\u001b[0;34m\u001b[0m\u001b[0m\n",
            "\u001b[0;31mValueError\u001b[0m: in user code:\n\n    File \"/usr/local/lib/python3.7/dist-packages/keras/engine/training.py\", line 878, in train_function  *\n        return step_function(self, iterator)\n    File \"/usr/local/lib/python3.7/dist-packages/keras/engine/training.py\", line 867, in step_function  **\n        outputs = model.distribute_strategy.run(run_step, args=(data,))\n    File \"/usr/local/lib/python3.7/dist-packages/keras/engine/training.py\", line 860, in run_step  **\n        outputs = model.train_step(data)\n    File \"/usr/local/lib/python3.7/dist-packages/keras/engine/training.py\", line 808, in train_step\n        y_pred = self(x, training=True)\n    File \"/usr/local/lib/python3.7/dist-packages/keras/utils/traceback_utils.py\", line 67, in error_handler\n        raise e.with_traceback(filtered_tb) from None\n    File \"/usr/local/lib/python3.7/dist-packages/keras/engine/input_spec.py\", line 263, in assert_input_compatibility\n        raise ValueError(f'Input {input_index} of layer \"{layer_name}\" is '\n\n    ValueError: Input 0 of layer \"sequential_7\" is incompatible with the layer: expected shape=(None, 28, 28), found shape=(None, 50, 50)\n"
          ]
        }
      ],
      "source": [
        "loss = model.fit(X_train, y_train, validation_data=(X_test, y_test), epochs=50,\n",
        "                batch_size=156)\n",
        "pd.DataFrame(loss.history)[['loss','val_loss']].plot()"
      ]
    },
    {
      "cell_type": "code",
      "execution_count": null,
      "id": "aaaecd95",
      "metadata": {
        "id": "aaaecd95"
      },
      "outputs": [],
      "source": [
        ""
      ]
    },
    {
      "cell_type": "code",
      "execution_count": null,
      "id": "53ad9b60",
      "metadata": {
        "id": "53ad9b60"
      },
      "outputs": [],
      "source": [
        "inp = keras.layers.Input(input_shape=(28,28))\n",
        "out = keras.layers.Flatter()(inp)\n",
        "out = keras.layers.Dense(256,activations='relu')(out)\n",
        "model.add(keras.layers.Dropout(0,4))(out)\n",
        "out = keras.layers.Dense(128,activations='relu')(out)\n",
        "model.add(keras.layers.Dropout(0,4))(out)\n",
        "out = keras.layers.Dense(64,activations='relu')(out)\n",
        "model.add(keras.layers.Dropout(0,4))(out)\n",
        "out = keras.layers.Dense(10,activations='relu')(out)\n",
        "model.add(keras.layers.Dropout(0,4))(out)\n",
        "model = keras.models.Model(inputs=inp,outputs=out)\n",
        "model.summary()"
      ]
    },
    {
      "cell_type": "code",
      "execution_count": null,
      "id": "674d7035",
      "metadata": {
        "id": "674d7035"
      },
      "outputs": [],
      "source": [
        ""
      ]
    },
    {
      "cell_type": "code",
      "execution_count": null,
      "id": "c317495c",
      "metadata": {
        "id": "c317495c"
      },
      "outputs": [],
      "source": [
        ""
      ]
    },
    {
      "cell_type": "code",
      "execution_count": null,
      "id": "0cae68da",
      "metadata": {
        "id": "0cae68da"
      },
      "outputs": [],
      "source": [
        ""
      ]
    }
  ],
  "metadata": {
    "kernelspec": {
      "display_name": "Python 3 (ipykernel)",
      "language": "python",
      "name": "python3"
    },
    "language_info": {
      "codemirror_mode": {
        "name": "ipython",
        "version": 3
      },
      "file_extension": ".py",
      "mimetype": "text/x-python",
      "name": "python",
      "nbconvert_exporter": "python",
      "pygments_lexer": "ipython3",
      "version": "3.8.10"
    },
    "colab": {
      "name": "flatlandprojektas.ipynb",
      "provenance": [],
      "collapsed_sections": [
        "41a3ceb1"
      ]
    },
    "accelerator": "GPU"
  },
  "nbformat": 4,
  "nbformat_minor": 5
}