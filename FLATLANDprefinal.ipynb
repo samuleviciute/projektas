{
  "cells": [
    {
      "cell_type": "markdown",
      "source": [
        "# Import\n",
        "\n"
      ],
      "metadata": {
        "id": "R6NWecHTnmwf"
      },
      "id": "R6NWecHTnmwf"
    },
    {
      "cell_type": "code",
      "source": [
        "import gzip\n",
        "import pickle\n",
        "from tensorflow import keras\n",
        "import numpy as np\n",
        "import pandas as pd\n",
        "from sklearn.model_selection import train_test_split\n",
        "\n",
        "import os\n",
        "import time\n",
        "import matplotlib.pyplot as plt\n",
        "import tensorflow.keras as keras\n",
        "from tensorflow.keras.layers import Dense, Input, Flatten, Conv2D, BatchNormalization, \\\n",
        "                                    Activation, Dropout, MaxPooling2D\n",
        "from tensorflow.keras.models import Sequential\n",
        "from tensorflow.keras.optimizers import Adam\n",
        "from tensorflow.keras.callbacks import TensorBoard\n",
        "from IPython.display import YouTubeVideo\n",
        "from PIL import Image\n"
      ],
      "metadata": {
        "id": "sTmZ3kUWm8vP"
      },
      "id": "sTmZ3kUWm8vP",
      "execution_count": null,
      "outputs": []
    },
    {
      "cell_type": "markdown",
      "source": [
        "#Evaluate funkcija\n",
        "\n",
        "\n"
      ],
      "metadata": {
        "id": "nuLVlV3P1v4m"
      },
      "id": "nuLVlV3P1v4m"
    },
    {
      "cell_type": "code",
      "execution_count": null,
      "id": "2ed4d4f5",
      "metadata": {
        "id": "2ed4d4f5"
      },
      "outputs": [],
      "source": [
        "\n",
        "def evaluate(path, model):\n",
        "    X, y = pickle.load(gzip.open(path, 'rb'))\n",
        "    y[y != 0] -= 2\n",
        "    X = X / 255.\n",
        "    acc = np.mean(model(X).numpy().argmax(axis=1) == y)\n",
        "    return acc"
      ]
    },
    {
      "cell_type": "markdown",
      "id": "13b28fec",
      "metadata": {
        "id": "13b28fec"
      },
      "source": [
        "# Loading data"
      ]
    },
    {
      "cell_type": "code",
      "execution_count": null,
      "id": "d20f5725",
      "metadata": {
        "id": "d20f5725"
      },
      "outputs": [],
      "source": [
        "path = 'flatland_train.data'\n",
        "X,y = pickle.load(gzip.open(path,'rb')) \n",
        "\n",
        "# data pre-proc\n",
        "y[y != 0] -= 2\n",
        "X = X.reshape (X.shape[0],50,50,1) / 255."
      ]
    },
    {
      "cell_type": "markdown",
      "source": [
        "## Splitting data to train and test sets"
      ],
      "metadata": {
        "id": "lLhobCbh5r7J"
      },
      "id": "lLhobCbh5r7J"
    },
    {
      "cell_type": "code",
      "source": [
        "X_train, X_test, y_train, y_test = train_test_split(X,y,test_size = 0.3,random_state = 42) "
      ],
      "metadata": {
        "id": "0XU4EmMB5l66"
      },
      "id": "0XU4EmMB5l66",
      "execution_count": null,
      "outputs": []
    },
    {
      "cell_type": "code",
      "source": [
        "print('X_train:', X_train.shape)\n",
        "print('y_train:', y_train.shape)\n",
        "print('X_test:', X_test.shape)\n",
        "print('y_test:', y_test.shape)"
      ],
      "metadata": {
        "colab": {
          "base_uri": "https://localhost:8080/"
        },
        "id": "F_yulV7oVVbf",
        "outputId": "225ca3a5-e929-4702-bb4a-cbba7000baf0"
      },
      "id": "F_yulV7oVVbf",
      "execution_count": null,
      "outputs": [
        {
          "output_type": "stream",
          "name": "stdout",
          "text": [
            "X_train: (7000, 50, 50, 1)\n",
            "y_train: (7000,)\n",
            "X_test: (3000, 50, 50, 1)\n",
            "y_test: (3000,)\n"
          ]
        }
      ]
    },
    {
      "cell_type": "markdown",
      "source": [
        "# Testuojame DNN "
      ],
      "metadata": {
        "id": "TObE6QFoE3Cn"
      },
      "id": "TObE6QFoE3Cn"
    },
    {
      "cell_type": "markdown",
      "id": "a6901dd4",
      "metadata": {
        "id": "a6901dd4"
      },
      "source": [
        "## Išbandome paprastą DNN modelį"
      ]
    },
    {
      "cell_type": "code",
      "execution_count": null,
      "id": "ffc01e2a",
      "metadata": {
        "colab": {
          "base_uri": "https://localhost:8080/"
        },
        "id": "ffc01e2a",
        "outputId": "ac7d5432-d3dc-4997-b2b9-84b5338658ab"
      },
      "outputs": [
        {
          "output_type": "stream",
          "name": "stdout",
          "text": [
            "Model: \"sequential_1\"\n",
            "_________________________________________________________________\n",
            " Layer (type)                Output Shape              Param #   \n",
            "=================================================================\n",
            " flatten_1 (Flatten)         (None, 2500)              0         \n",
            "                                                                 \n",
            " dense_4 (Dense)             (None, 128)               320128    \n",
            "                                                                 \n",
            " dense_5 (Dense)             (None, 64)                8256      \n",
            "                                                                 \n",
            " dense_6 (Dense)             (None, 10)                650       \n",
            "                                                                 \n",
            "=================================================================\n",
            "Total params: 329,034\n",
            "Trainable params: 329,034\n",
            "Non-trainable params: 0\n",
            "_________________________________________________________________\n"
          ]
        }
      ],
      "source": [
        "model = keras.models.Sequential()\n",
        "model.add(keras.layers.Flatten(input_shape=[50, 50]))\n",
        "model.add(keras.layers.Dense(128, activation=\"relu\"))\n",
        "model.add(keras.layers.Dense(64, activation=\"relu\"))\n",
        "model.add(keras.layers.Dense(10, activation=\"softmax\"))\n",
        "model.compile(loss=\"sparse_categorical_crossentropy\",\n",
        "              optimizer='sgd',\n",
        "              metrics=[\"accuracy\"])\n",
        "model.summary()\n"
      ]
    },
    {
      "cell_type": "code",
      "source": [
        "loss = model.fit(X_train, y_train, epochs=25,validation_data=[X_test,y_test])"
      ],
      "metadata": {
        "id": "T0JGXk3SEMHl",
        "colab": {
          "base_uri": "https://localhost:8080/"
        },
        "outputId": "a4a17d6c-f37f-4554-b426-5364b1764823"
      },
      "id": "T0JGXk3SEMHl",
      "execution_count": null,
      "outputs": [
        {
          "output_type": "stream",
          "name": "stdout",
          "text": [
            "Epoch 1/25\n",
            "219/219 [==============================] - 2s 6ms/step - loss: 1.5802 - accuracy: 0.3924 - val_loss: 1.3661 - val_accuracy: 0.4693\n",
            "Epoch 2/25\n",
            "219/219 [==============================] - 1s 5ms/step - loss: 1.2987 - accuracy: 0.4769 - val_loss: 1.2557 - val_accuracy: 0.4737\n",
            "Epoch 3/25\n",
            "219/219 [==============================] - 1s 5ms/step - loss: 1.2213 - accuracy: 0.4989 - val_loss: 1.2419 - val_accuracy: 0.4613\n",
            "Epoch 4/25\n",
            "219/219 [==============================] - 1s 5ms/step - loss: 1.1741 - accuracy: 0.5116 - val_loss: 1.2209 - val_accuracy: 0.4957\n",
            "Epoch 5/25\n",
            "219/219 [==============================] - 1s 5ms/step - loss: 1.1419 - accuracy: 0.5223 - val_loss: 1.1904 - val_accuracy: 0.4893\n",
            "Epoch 6/25\n",
            "219/219 [==============================] - 1s 5ms/step - loss: 1.1030 - accuracy: 0.5441 - val_loss: 1.1457 - val_accuracy: 0.5197\n",
            "Epoch 7/25\n",
            "219/219 [==============================] - 1s 5ms/step - loss: 1.0662 - accuracy: 0.5619 - val_loss: 1.1440 - val_accuracy: 0.5120\n",
            "Epoch 8/25\n",
            "219/219 [==============================] - 1s 5ms/step - loss: 1.0330 - accuracy: 0.5824 - val_loss: 1.0915 - val_accuracy: 0.5300\n",
            "Epoch 9/25\n",
            "219/219 [==============================] - 1s 5ms/step - loss: 0.9944 - accuracy: 0.5929 - val_loss: 1.0754 - val_accuracy: 0.5600\n",
            "Epoch 10/25\n",
            "219/219 [==============================] - 1s 5ms/step - loss: 0.9514 - accuracy: 0.6206 - val_loss: 1.0141 - val_accuracy: 0.5810\n",
            "Epoch 11/25\n",
            "219/219 [==============================] - 1s 5ms/step - loss: 0.9220 - accuracy: 0.6323 - val_loss: 1.0039 - val_accuracy: 0.5877\n",
            "Epoch 12/25\n",
            "219/219 [==============================] - 1s 5ms/step - loss: 0.8854 - accuracy: 0.6476 - val_loss: 0.9572 - val_accuracy: 0.6030\n",
            "Epoch 13/25\n",
            "219/219 [==============================] - 1s 5ms/step - loss: 0.8542 - accuracy: 0.6671 - val_loss: 0.9516 - val_accuracy: 0.6103\n",
            "Epoch 14/25\n",
            "219/219 [==============================] - 1s 5ms/step - loss: 0.8168 - accuracy: 0.6856 - val_loss: 0.9543 - val_accuracy: 0.5930\n",
            "Epoch 15/25\n",
            "219/219 [==============================] - 1s 5ms/step - loss: 0.7861 - accuracy: 0.6931 - val_loss: 0.8841 - val_accuracy: 0.6297\n",
            "Epoch 16/25\n",
            "219/219 [==============================] - 2s 8ms/step - loss: 0.7557 - accuracy: 0.7109 - val_loss: 0.8742 - val_accuracy: 0.6093\n",
            "Epoch 17/25\n",
            "219/219 [==============================] - 2s 9ms/step - loss: 0.7277 - accuracy: 0.7187 - val_loss: 0.9114 - val_accuracy: 0.6047\n",
            "Epoch 18/25\n",
            "219/219 [==============================] - 3s 12ms/step - loss: 0.7013 - accuracy: 0.7311 - val_loss: 0.8239 - val_accuracy: 0.6633\n",
            "Epoch 19/25\n",
            "219/219 [==============================] - 3s 11ms/step - loss: 0.6804 - accuracy: 0.7427 - val_loss: 0.8709 - val_accuracy: 0.6240\n",
            "Epoch 20/25\n",
            "219/219 [==============================] - 2s 9ms/step - loss: 0.6556 - accuracy: 0.7517 - val_loss: 0.7978 - val_accuracy: 0.6590\n",
            "Epoch 21/25\n",
            "219/219 [==============================] - 2s 10ms/step - loss: 0.6380 - accuracy: 0.7584 - val_loss: 0.8052 - val_accuracy: 0.6553\n",
            "Epoch 22/25\n",
            "219/219 [==============================] - 2s 8ms/step - loss: 0.6177 - accuracy: 0.7659 - val_loss: 0.7762 - val_accuracy: 0.6787\n",
            "Epoch 23/25\n",
            "219/219 [==============================] - 2s 9ms/step - loss: 0.5942 - accuracy: 0.7784 - val_loss: 0.8426 - val_accuracy: 0.6420\n",
            "Epoch 24/25\n",
            "219/219 [==============================] - 1s 5ms/step - loss: 0.5787 - accuracy: 0.7784 - val_loss: 0.7678 - val_accuracy: 0.6830\n",
            "Epoch 25/25\n",
            "219/219 [==============================] - 1s 5ms/step - loss: 0.5605 - accuracy: 0.7899 - val_loss: 0.7635 - val_accuracy: 0.6740\n"
          ]
        }
      ]
    },
    {
      "cell_type": "code",
      "source": [
        "pred = model.predict(X_test).argmax(axis=1)\n",
        "print('Accuracy on test set - {0:.02%}'.format((pred == y_test).mean()))"
      ],
      "metadata": {
        "colab": {
          "base_uri": "https://localhost:8080/"
        },
        "id": "05yt-I8RBlGi",
        "outputId": "82ae7b22-5ffc-44e8-f50b-7d26356ad382"
      },
      "id": "05yt-I8RBlGi",
      "execution_count": null,
      "outputs": [
        {
          "output_type": "stream",
          "name": "stdout",
          "text": [
            "Accuracy on test set - 67.40%\n"
          ]
        }
      ]
    },
    {
      "cell_type": "code",
      "source": [
        "model.save('modelis.h5')"
      ],
      "metadata": {
        "id": "ZXF5b4pDBmfa"
      },
      "id": "ZXF5b4pDBmfa",
      "execution_count": null,
      "outputs": []
    },
    {
      "cell_type": "code",
      "source": [
        "model = keras.models.load_model('modelis.h5')\n",
        "evaluate('flatland_train.data', model)"
      ],
      "metadata": {
        "colab": {
          "base_uri": "https://localhost:8080/"
        },
        "id": "ZzEL7uaxBnCw",
        "outputId": "d2988fe3-0122-486b-9157-6505ce4badce"
      },
      "id": "ZzEL7uaxBnCw",
      "execution_count": null,
      "outputs": [
        {
          "output_type": "execute_result",
          "data": {
            "text/plain": [
              "0.7567"
            ]
          },
          "metadata": {},
          "execution_count": 16
        }
      ]
    },
    {
      "cell_type": "markdown",
      "source": [
        "## Pakeičiame optimizer iš sgd į Adam "
      ],
      "metadata": {
        "id": "yyPTEnKRFJF0"
      },
      "id": "yyPTEnKRFJF0"
    },
    {
      "cell_type": "code",
      "source": [
        "model = keras.models.Sequential()\n",
        "model.add(keras.layers.Flatten(input_shape=[50, 50]))\n",
        "model.add(keras.layers.Dense(128, activation=\"relu\"))\n",
        "model.add(keras.layers.Dense(64, activation=\"relu\"))\n",
        "model.add(keras.layers.Dense(10, activation=\"softmax\"))\n",
        "model.compile(loss=\"sparse_categorical_crossentropy\",\n",
        "              optimizer='Adam',\n",
        "              metrics=[\"accuracy\"])\n",
        "model.summary()\n"
      ],
      "metadata": {
        "colab": {
          "base_uri": "https://localhost:8080/"
        },
        "id": "5ubDYbfUB31f",
        "outputId": "19bb3cca-73d7-4d64-d342-533c17ba4973"
      },
      "id": "5ubDYbfUB31f",
      "execution_count": null,
      "outputs": [
        {
          "output_type": "stream",
          "name": "stdout",
          "text": [
            "Model: \"sequential_2\"\n",
            "_________________________________________________________________\n",
            " Layer (type)                Output Shape              Param #   \n",
            "=================================================================\n",
            " flatten_2 (Flatten)         (None, 2500)              0         \n",
            "                                                                 \n",
            " dense_7 (Dense)             (None, 128)               320128    \n",
            "                                                                 \n",
            " dense_8 (Dense)             (None, 64)                8256      \n",
            "                                                                 \n",
            " dense_9 (Dense)             (None, 10)                650       \n",
            "                                                                 \n",
            "=================================================================\n",
            "Total params: 329,034\n",
            "Trainable params: 329,034\n",
            "Non-trainable params: 0\n",
            "_________________________________________________________________\n"
          ]
        }
      ]
    },
    {
      "cell_type": "code",
      "source": [
        "loss = model.fit(X_train, y_train, epochs=25,validation_data=[X_test,y_test])"
      ],
      "metadata": {
        "colab": {
          "base_uri": "https://localhost:8080/"
        },
        "id": "tW-SKfs2B-j_",
        "outputId": "b12cea43-ca3d-4568-f0a0-da3e821b19c4"
      },
      "id": "tW-SKfs2B-j_",
      "execution_count": null,
      "outputs": [
        {
          "output_type": "stream",
          "name": "stdout",
          "text": [
            "Epoch 1/25\n",
            "219/219 [==============================] - 3s 10ms/step - loss: 1.3396 - accuracy: 0.4427 - val_loss: 1.1610 - val_accuracy: 0.4940\n",
            "Epoch 2/25\n",
            "219/219 [==============================] - 2s 10ms/step - loss: 1.0685 - accuracy: 0.5564 - val_loss: 1.0059 - val_accuracy: 0.5703\n",
            "Epoch 3/25\n",
            "219/219 [==============================] - 2s 10ms/step - loss: 0.8861 - accuracy: 0.6341 - val_loss: 0.8636 - val_accuracy: 0.6530\n",
            "Epoch 4/25\n",
            "219/219 [==============================] - 1s 6ms/step - loss: 0.7417 - accuracy: 0.7007 - val_loss: 0.8501 - val_accuracy: 0.6487\n",
            "Epoch 5/25\n",
            "219/219 [==============================] - 1s 5ms/step - loss: 0.6577 - accuracy: 0.7397 - val_loss: 0.7894 - val_accuracy: 0.6557\n",
            "Epoch 6/25\n",
            "219/219 [==============================] - 1s 5ms/step - loss: 0.6105 - accuracy: 0.7536 - val_loss: 0.6998 - val_accuracy: 0.7067\n",
            "Epoch 7/25\n",
            "219/219 [==============================] - 1s 5ms/step - loss: 0.5543 - accuracy: 0.7831 - val_loss: 0.6951 - val_accuracy: 0.7120\n",
            "Epoch 8/25\n",
            "219/219 [==============================] - 1s 5ms/step - loss: 0.5229 - accuracy: 0.7899 - val_loss: 0.6434 - val_accuracy: 0.7310\n",
            "Epoch 9/25\n",
            "219/219 [==============================] - 1s 5ms/step - loss: 0.4850 - accuracy: 0.8011 - val_loss: 0.7015 - val_accuracy: 0.7147\n",
            "Epoch 10/25\n",
            "219/219 [==============================] - 1s 5ms/step - loss: 0.4665 - accuracy: 0.8101 - val_loss: 0.6463 - val_accuracy: 0.7390\n",
            "Epoch 11/25\n",
            "219/219 [==============================] - 1s 5ms/step - loss: 0.4350 - accuracy: 0.8183 - val_loss: 0.6439 - val_accuracy: 0.7497\n",
            "Epoch 12/25\n",
            "219/219 [==============================] - 1s 5ms/step - loss: 0.4155 - accuracy: 0.8280 - val_loss: 0.6682 - val_accuracy: 0.7500\n",
            "Epoch 13/25\n",
            "219/219 [==============================] - 1s 5ms/step - loss: 0.3887 - accuracy: 0.8391 - val_loss: 0.6855 - val_accuracy: 0.7357\n",
            "Epoch 14/25\n",
            "219/219 [==============================] - 1s 5ms/step - loss: 0.3698 - accuracy: 0.8473 - val_loss: 0.6508 - val_accuracy: 0.7657\n",
            "Epoch 15/25\n",
            "219/219 [==============================] - 1s 5ms/step - loss: 0.3629 - accuracy: 0.8516 - val_loss: 0.6600 - val_accuracy: 0.7510\n",
            "Epoch 16/25\n",
            "219/219 [==============================] - 1s 5ms/step - loss: 0.3136 - accuracy: 0.8671 - val_loss: 0.6507 - val_accuracy: 0.7683\n",
            "Epoch 17/25\n",
            "219/219 [==============================] - 1s 5ms/step - loss: 0.3298 - accuracy: 0.8633 - val_loss: 0.6633 - val_accuracy: 0.7563\n",
            "Epoch 18/25\n",
            "219/219 [==============================] - 1s 5ms/step - loss: 0.2963 - accuracy: 0.8764 - val_loss: 0.6188 - val_accuracy: 0.7900\n",
            "Epoch 19/25\n",
            "219/219 [==============================] - 1s 5ms/step - loss: 0.2719 - accuracy: 0.8940 - val_loss: 0.6902 - val_accuracy: 0.7720\n",
            "Epoch 20/25\n",
            "219/219 [==============================] - 1s 5ms/step - loss: 0.2911 - accuracy: 0.8797 - val_loss: 0.6818 - val_accuracy: 0.7653\n",
            "Epoch 21/25\n",
            "219/219 [==============================] - 1s 5ms/step - loss: 0.2580 - accuracy: 0.8916 - val_loss: 0.6383 - val_accuracy: 0.7873\n",
            "Epoch 22/25\n",
            "219/219 [==============================] - 1s 5ms/step - loss: 0.2243 - accuracy: 0.9101 - val_loss: 0.6719 - val_accuracy: 0.7817\n",
            "Epoch 23/25\n",
            "219/219 [==============================] - 1s 5ms/step - loss: 0.2135 - accuracy: 0.9186 - val_loss: 0.6856 - val_accuracy: 0.7733\n",
            "Epoch 24/25\n",
            "219/219 [==============================] - 1s 5ms/step - loss: 0.2064 - accuracy: 0.9171 - val_loss: 0.6519 - val_accuracy: 0.7973\n",
            "Epoch 25/25\n",
            "219/219 [==============================] - 1s 5ms/step - loss: 0.1877 - accuracy: 0.9263 - val_loss: 0.7535 - val_accuracy: 0.7943\n"
          ]
        }
      ]
    },
    {
      "cell_type": "code",
      "source": [
        "pred = model.predict(X_test).argmax(axis=1)\n",
        "print('Accuracy on test set - {0:.02%}'.format((pred == y_test).mean()))"
      ],
      "metadata": {
        "colab": {
          "base_uri": "https://localhost:8080/"
        },
        "id": "omfz0eRPCk3P",
        "outputId": "375e16ee-6155-4552-9399-b9215cc90b7d"
      },
      "id": "omfz0eRPCk3P",
      "execution_count": null,
      "outputs": [
        {
          "output_type": "stream",
          "name": "stdout",
          "text": [
            "Accuracy on test set - 79.43%\n"
          ]
        }
      ]
    },
    {
      "cell_type": "code",
      "source": [
        "model.save('modelis.h5')"
      ],
      "metadata": {
        "id": "eIGD2NsyClf4"
      },
      "id": "eIGD2NsyClf4",
      "execution_count": null,
      "outputs": []
    },
    {
      "cell_type": "code",
      "source": [
        "model = keras.models.load_model('modelis.h5')\n",
        "evaluate('flatland_train.data', model)"
      ],
      "metadata": {
        "colab": {
          "base_uri": "https://localhost:8080/"
        },
        "id": "ZEqiSUlyClLs",
        "outputId": "501593f9-b7f0-4fda-ad73-4e22a38ece68"
      },
      "id": "ZEqiSUlyClLs",
      "execution_count": null,
      "outputs": [
        {
          "output_type": "execute_result",
          "data": {
            "text/plain": [
              "0.8755"
            ]
          },
          "metadata": {},
          "execution_count": 21
        }
      ]
    },
    {
      "cell_type": "markdown",
      "source": [
        "Galima pastebėti, kad su optimizer Adam pasiekėme žymiai gersnių rezultatų, toliau keičiame kitus parametrus ir dar tobuliname modelį"
      ],
      "metadata": {
        "id": "7j6GrsK5FoKN"
      },
      "id": "7j6GrsK5FoKN"
    },
    {
      "cell_type": "markdown",
      "source": [
        "## Optimizer Adam ir pridėta layers"
      ],
      "metadata": {
        "id": "vi-x_fCoF7ju"
      },
      "id": "vi-x_fCoF7ju"
    },
    {
      "cell_type": "code",
      "source": [
        "model = keras.models.Sequential()\n",
        "model.add(keras.layers.Flatten(input_shape=(50,50)))\n",
        "model.add(keras.layers.Dense(128,activation='relu')) \n",
        "model.add(keras.layers.Dense(64,activation='relu'))\n",
        "model.add(keras.layers.Dense(64,activation='relu'))\n",
        "model.add(keras.layers.Dense(16,activation='softmax')) \n",
        "model.compile(loss='sparse_categorical_crossentropy',\n",
        "             optimizer = 'Adam',\n",
        "              metrics=['accuracy'])\n"
      ],
      "metadata": {
        "id": "X5YR-e0BBbyd"
      },
      "id": "X5YR-e0BBbyd",
      "execution_count": null,
      "outputs": []
    },
    {
      "cell_type": "code",
      "source": [
        "loss = model.fit(X_train, y_train, epochs=30,validation_data=[X_test,y_test])"
      ],
      "metadata": {
        "colab": {
          "base_uri": "https://localhost:8080/"
        },
        "id": "zw-LwGnxBcuB",
        "outputId": "e8efdda7-66a6-4bd8-d225-79e1fa457a4f"
      },
      "id": "zw-LwGnxBcuB",
      "execution_count": null,
      "outputs": [
        {
          "output_type": "stream",
          "name": "stdout",
          "text": [
            "Epoch 1/30\n",
            "219/219 [==============================] - 3s 11ms/step - loss: 1.3796 - accuracy: 0.4367 - val_loss: 1.2280 - val_accuracy: 0.5047\n",
            "Epoch 2/30\n",
            "219/219 [==============================] - 2s 10ms/step - loss: 1.0902 - accuracy: 0.5466 - val_loss: 1.0940 - val_accuracy: 0.5600\n",
            "Epoch 3/30\n",
            "219/219 [==============================] - 2s 10ms/step - loss: 0.9265 - accuracy: 0.6053 - val_loss: 0.9390 - val_accuracy: 0.6147\n",
            "Epoch 4/30\n",
            "219/219 [==============================] - 2s 11ms/step - loss: 0.7871 - accuracy: 0.6777 - val_loss: 0.8194 - val_accuracy: 0.6497\n",
            "Epoch 5/30\n",
            "219/219 [==============================] - 3s 12ms/step - loss: 0.6988 - accuracy: 0.7200 - val_loss: 0.7794 - val_accuracy: 0.6693\n",
            "Epoch 6/30\n",
            "219/219 [==============================] - 2s 8ms/step - loss: 0.6368 - accuracy: 0.7470 - val_loss: 0.7994 - val_accuracy: 0.6680\n",
            "Epoch 7/30\n",
            "219/219 [==============================] - 1s 6ms/step - loss: 0.5811 - accuracy: 0.7650 - val_loss: 0.6929 - val_accuracy: 0.7140\n",
            "Epoch 8/30\n",
            "219/219 [==============================] - 1s 6ms/step - loss: 0.5355 - accuracy: 0.7827 - val_loss: 0.6864 - val_accuracy: 0.7170\n",
            "Epoch 9/30\n",
            "219/219 [==============================] - 1s 5ms/step - loss: 0.4993 - accuracy: 0.7953 - val_loss: 0.6842 - val_accuracy: 0.7317\n",
            "Epoch 10/30\n",
            "219/219 [==============================] - 1s 5ms/step - loss: 0.4696 - accuracy: 0.8016 - val_loss: 0.6322 - val_accuracy: 0.7500\n",
            "Epoch 11/30\n",
            "219/219 [==============================] - 1s 6ms/step - loss: 0.4407 - accuracy: 0.8156 - val_loss: 0.7052 - val_accuracy: 0.7257\n",
            "Epoch 12/30\n",
            "219/219 [==============================] - 1s 6ms/step - loss: 0.4191 - accuracy: 0.8247 - val_loss: 0.6734 - val_accuracy: 0.7360\n",
            "Epoch 13/30\n",
            "219/219 [==============================] - 2s 9ms/step - loss: 0.3934 - accuracy: 0.8330 - val_loss: 0.6457 - val_accuracy: 0.7590\n",
            "Epoch 14/30\n",
            "219/219 [==============================] - 2s 9ms/step - loss: 0.3622 - accuracy: 0.8504 - val_loss: 0.6369 - val_accuracy: 0.7737\n",
            "Epoch 15/30\n",
            "219/219 [==============================] - 2s 10ms/step - loss: 0.3539 - accuracy: 0.8537 - val_loss: 0.6520 - val_accuracy: 0.7750\n",
            "Epoch 16/30\n",
            "219/219 [==============================] - 2s 11ms/step - loss: 0.3160 - accuracy: 0.8733 - val_loss: 0.6705 - val_accuracy: 0.7743\n",
            "Epoch 17/30\n",
            "219/219 [==============================] - 2s 10ms/step - loss: 0.3209 - accuracy: 0.8711 - val_loss: 0.6821 - val_accuracy: 0.7590\n",
            "Epoch 18/30\n",
            "219/219 [==============================] - 2s 9ms/step - loss: 0.2899 - accuracy: 0.8816 - val_loss: 0.6409 - val_accuracy: 0.7840\n",
            "Epoch 19/30\n",
            "219/219 [==============================] - 2s 10ms/step - loss: 0.2743 - accuracy: 0.8900 - val_loss: 0.5619 - val_accuracy: 0.8113\n",
            "Epoch 20/30\n",
            "219/219 [==============================] - 2s 9ms/step - loss: 0.2278 - accuracy: 0.9121 - val_loss: 0.6089 - val_accuracy: 0.8100\n",
            "Epoch 21/30\n",
            "219/219 [==============================] - 2s 10ms/step - loss: 0.2345 - accuracy: 0.9067 - val_loss: 0.5634 - val_accuracy: 0.8363\n",
            "Epoch 22/30\n",
            "219/219 [==============================] - 2s 9ms/step - loss: 0.2146 - accuracy: 0.9173 - val_loss: 0.5741 - val_accuracy: 0.8273\n",
            "Epoch 23/30\n",
            "219/219 [==============================] - 2s 9ms/step - loss: 0.1700 - accuracy: 0.9371 - val_loss: 0.5866 - val_accuracy: 0.8407\n",
            "Epoch 24/30\n",
            "219/219 [==============================] - 2s 11ms/step - loss: 0.1704 - accuracy: 0.9363 - val_loss: 0.5593 - val_accuracy: 0.8520\n",
            "Epoch 25/30\n",
            "219/219 [==============================] - 2s 9ms/step - loss: 0.1508 - accuracy: 0.9447 - val_loss: 0.6349 - val_accuracy: 0.8297\n",
            "Epoch 26/30\n",
            "219/219 [==============================] - 2s 9ms/step - loss: 0.1635 - accuracy: 0.9384 - val_loss: 0.6553 - val_accuracy: 0.8400\n",
            "Epoch 27/30\n",
            "219/219 [==============================] - 2s 9ms/step - loss: 0.1862 - accuracy: 0.9280 - val_loss: 0.6509 - val_accuracy: 0.8180\n",
            "Epoch 28/30\n",
            "219/219 [==============================] - 2s 10ms/step - loss: 0.1531 - accuracy: 0.9411 - val_loss: 0.6162 - val_accuracy: 0.8563\n",
            "Epoch 29/30\n",
            "219/219 [==============================] - 2s 10ms/step - loss: 0.1233 - accuracy: 0.9536 - val_loss: 0.5483 - val_accuracy: 0.8680\n",
            "Epoch 30/30\n",
            "219/219 [==============================] - 2s 8ms/step - loss: 0.1243 - accuracy: 0.9533 - val_loss: 0.5817 - val_accuracy: 0.8500\n"
          ]
        }
      ]
    },
    {
      "cell_type": "code",
      "source": [
        "pred = model.predict(X_test).argmax(axis=1)\n",
        "print('Accuracy on test set - {0:.02%}'.format((pred == y_test).mean()))"
      ],
      "metadata": {
        "colab": {
          "base_uri": "https://localhost:8080/"
        },
        "id": "lif7rkIqETy0",
        "outputId": "51207153-a4d0-4fe4-b574-ea8eca79374e"
      },
      "id": "lif7rkIqETy0",
      "execution_count": null,
      "outputs": [
        {
          "output_type": "stream",
          "name": "stdout",
          "text": [
            "Accuracy on test set - 85.00%\n"
          ]
        }
      ]
    },
    {
      "cell_type": "code",
      "source": [
        "model.save('modelis.h5')"
      ],
      "metadata": {
        "id": "9XYUPVY1EaFe"
      },
      "id": "9XYUPVY1EaFe",
      "execution_count": null,
      "outputs": []
    },
    {
      "cell_type": "code",
      "source": [
        "model = keras.models.load_model('modelis.h5')\n",
        "evaluate('flatland_train.data', model)"
      ],
      "metadata": {
        "colab": {
          "base_uri": "https://localhost:8080/"
        },
        "id": "HgMG1N1WEdN3",
        "outputId": "00251890-1f38-4032-cf0a-211f84b62d11"
      },
      "id": "HgMG1N1WEdN3",
      "execution_count": null,
      "outputs": [
        {
          "output_type": "execute_result",
          "data": {
            "text/plain": [
              "0.9247"
            ]
          },
          "metadata": {},
          "execution_count": 26
        }
      ]
    },
    {
      "cell_type": "markdown",
      "source": [
        "Train set accuracy 92.47% Test set (simple) accuracy 86.00% Test set (adv.) accuracy 63.45%"
      ],
      "metadata": {
        "id": "6hTNaO9nD1_c"
      },
      "id": "6hTNaO9nD1_c"
    },
    {
      "cell_type": "markdown",
      "source": [
        "Patobulinus DNN modelį pavyko pasiekti labai gerų rezultatų train ir test(simple) duomenų, tačiau ant advanced test set procentas mažas, todėl toliau išbandau CNN."
      ],
      "metadata": {
        "id": "ZB9ySfycGT2j"
      },
      "id": "ZB9ySfycGT2j"
    },
    {
      "cell_type": "markdown",
      "source": [
        "# CNN modelio pakeitimai ir testavimai"
      ],
      "metadata": {
        "id": "pMxJdG2qGnCA"
      },
      "id": "pMxJdG2qGnCA"
    },
    {
      "cell_type": "markdown",
      "source": [
        "### Išbandome paprastą CNN modelį (CNN1)"
      ],
      "metadata": {
        "id": "U4X-jMPJ6O-4"
      },
      "id": "U4X-jMPJ6O-4"
    },
    {
      "cell_type": "code",
      "source": [
        "model = Sequential()\n",
        "model.add(keras.layers.Conv2D(32, kernel_size=(3, 3), activation='relu', input_shape=[50, 50, 1]))\n",
        "model.add(keras.layers.BatchNormalization(axis=-1))   \n",
        "model.add(keras.layers.MaxPooling2D(pool_size=(2, 2)))\n",
        "model.add(keras.layers.Conv2D(32,kernel_size =  (3, 3), activation='relu'))\n",
        "model.add(keras.layers.BatchNormalization(axis=-1))   \n",
        "model.add(keras.layers.MaxPooling2D(pool_size=(2, 2)))\n",
        "model.add(keras.layers.Flatten())\n",
        "model.add(keras.layers.Dense(64, activation='relu'))\n",
        "model.add(keras.layers.Dense(5, activation='softmax'))\n",
        "model.compile(loss=\"sparse_categorical_crossentropy\",\n",
        "              optimizer=\"Adam\",\n",
        "              metrics=[\"accuracy\"])\n",
        "model.summary()"
      ],
      "metadata": {
        "id": "Bk99IgA6kYKJ",
        "colab": {
          "base_uri": "https://localhost:8080/"
        },
        "outputId": "2d71ab72-4f76-4ba1-d55d-2351c9016952"
      },
      "id": "Bk99IgA6kYKJ",
      "execution_count": null,
      "outputs": [
        {
          "output_type": "stream",
          "name": "stdout",
          "text": [
            "Model: \"sequential\"\n",
            "_________________________________________________________________\n",
            " Layer (type)                Output Shape              Param #   \n",
            "=================================================================\n",
            " conv2d (Conv2D)             (None, 48, 48, 32)        320       \n",
            "                                                                 \n",
            " batch_normalization (BatchN  (None, 48, 48, 32)       128       \n",
            " ormalization)                                                   \n",
            "                                                                 \n",
            " max_pooling2d (MaxPooling2D  (None, 24, 24, 32)       0         \n",
            " )                                                               \n",
            "                                                                 \n",
            " conv2d_1 (Conv2D)           (None, 22, 22, 32)        9248      \n",
            "                                                                 \n",
            " batch_normalization_1 (Batc  (None, 22, 22, 32)       128       \n",
            " hNormalization)                                                 \n",
            "                                                                 \n",
            " max_pooling2d_1 (MaxPooling  (None, 11, 11, 32)       0         \n",
            " 2D)                                                             \n",
            "                                                                 \n",
            " flatten (Flatten)           (None, 3872)              0         \n",
            "                                                                 \n",
            " dense (Dense)               (None, 64)                247872    \n",
            "                                                                 \n",
            " dense_1 (Dense)             (None, 5)                 325       \n",
            "                                                                 \n",
            "=================================================================\n",
            "Total params: 258,021\n",
            "Trainable params: 257,893\n",
            "Non-trainable params: 128\n",
            "_________________________________________________________________\n"
          ]
        }
      ]
    },
    {
      "cell_type": "code",
      "source": [
        "loss = model.fit(X_train, y_train, epochs=10,validation_data=[X_test,y_test])"
      ],
      "metadata": {
        "id": "_SGTmfbzkYto",
        "colab": {
          "base_uri": "https://localhost:8080/"
        },
        "outputId": "fc6a1b83-3f99-4ffa-b4f9-16a036748c94"
      },
      "id": "_SGTmfbzkYto",
      "execution_count": null,
      "outputs": [
        {
          "output_type": "stream",
          "name": "stdout",
          "text": [
            "Epoch 1/10\n",
            "219/219 [==============================] - 11s 24ms/step - loss: 1.2022 - accuracy: 0.5267 - val_loss: 2.9156 - val_accuracy: 0.2457\n",
            "Epoch 2/10\n",
            "219/219 [==============================] - 4s 17ms/step - loss: 0.5266 - accuracy: 0.8176 - val_loss: 5.3613 - val_accuracy: 0.1700\n",
            "Epoch 3/10\n",
            "219/219 [==============================] - 3s 16ms/step - loss: 0.2697 - accuracy: 0.9303 - val_loss: 1.1827 - val_accuracy: 0.5847\n",
            "Epoch 4/10\n",
            "219/219 [==============================] - 3s 16ms/step - loss: 0.1818 - accuracy: 0.9526 - val_loss: 0.3805 - val_accuracy: 0.8940\n",
            "Epoch 5/10\n",
            "219/219 [==============================] - 4s 17ms/step - loss: 0.1241 - accuracy: 0.9667 - val_loss: 0.3815 - val_accuracy: 0.8780\n",
            "Epoch 6/10\n",
            "219/219 [==============================] - 4s 18ms/step - loss: 0.0797 - accuracy: 0.9784 - val_loss: 0.2921 - val_accuracy: 0.9350\n",
            "Epoch 7/10\n",
            "219/219 [==============================] - 3s 15ms/step - loss: 0.0706 - accuracy: 0.9793 - val_loss: 0.3714 - val_accuracy: 0.9193\n",
            "Epoch 8/10\n",
            "219/219 [==============================] - 3s 13ms/step - loss: 0.0488 - accuracy: 0.9860 - val_loss: 0.5269 - val_accuracy: 0.8853\n",
            "Epoch 9/10\n",
            "219/219 [==============================] - 2s 11ms/step - loss: 0.0469 - accuracy: 0.9846 - val_loss: 0.4823 - val_accuracy: 0.9063\n",
            "Epoch 10/10\n",
            "219/219 [==============================] - 3s 12ms/step - loss: 0.0436 - accuracy: 0.9871 - val_loss: 0.6145 - val_accuracy: 0.8677\n"
          ]
        }
      ]
    },
    {
      "cell_type": "code",
      "source": [
        "pd.DataFrame(loss.history).plot()"
      ],
      "metadata": {
        "id": "NLouQnK9pXF8"
      },
      "id": "NLouQnK9pXF8",
      "execution_count": null,
      "outputs": []
    },
    {
      "cell_type": "code",
      "source": [
        "pred = model.predict(X_test).argmax(axis=1)\n",
        "print('Accuracy on test set - {0:.02%}'.format((pred == y_test).mean()))"
      ],
      "metadata": {
        "colab": {
          "base_uri": "https://localhost:8080/"
        },
        "id": "ZvZMWVwupYL9",
        "outputId": "4efde171-8014-4ba0-c38e-4c9f6cb3e8fb"
      },
      "id": "ZvZMWVwupYL9",
      "execution_count": null,
      "outputs": [
        {
          "output_type": "stream",
          "name": "stdout",
          "text": [
            "Accuracy on test set - 86.77%\n"
          ]
        }
      ]
    },
    {
      "cell_type": "code",
      "source": [
        "model.save('cnn.h5')"
      ],
      "metadata": {
        "id": "O_HL2wRC7dp1"
      },
      "id": "O_HL2wRC7dp1",
      "execution_count": null,
      "outputs": []
    },
    {
      "cell_type": "code",
      "source": [
        "model = keras.models.load_model('cnn.h5')\n",
        "evaluate('flatland_train.data', model)"
      ],
      "metadata": {
        "colab": {
          "base_uri": "https://localhost:8080/"
        },
        "id": "VFW6-sVT7fC7",
        "outputId": "0eed1580-694a-470f-da61-66466275b828"
      },
      "id": "VFW6-sVT7fC7",
      "execution_count": null,
      "outputs": [
        {
          "output_type": "execute_result",
          "data": {
            "text/plain": [
              "0.9126"
            ]
          },
          "metadata": {},
          "execution_count": 9
        }
      ]
    },
    {
      "cell_type": "markdown",
      "source": [
        "Train set accuracy 91.26% Test set (simple) accuracy 87.93% Test set (adv.) accuracy 65.83%"
      ],
      "metadata": {
        "id": "wiaJE918-ONf"
      },
      "id": "wiaJE918-ONf"
    },
    {
      "cell_type": "markdown",
      "source": [
        "Su paprastu CNN modeliu iškart pasiekėme geresnių rezultatų simple ir advanced test setuose per tris kartus mažiau epochų."
      ],
      "metadata": {
        "id": "wTIzb6FvH3kt"
      },
      "id": "wTIzb6FvH3kt"
    },
    {
      "cell_type": "markdown",
      "source": [
        "### CNN 2\n"
      ],
      "metadata": {
        "id": "-3hiaSXFEgY6"
      },
      "id": "-3hiaSXFEgY6"
    },
    {
      "cell_type": "code",
      "source": [
        "model = Sequential()\n",
        "model.add(keras.layers.Conv2D(32, kernel_size=(3, 3), activation='relu', input_shape=[50, 50, 1]))\n",
        "model.add(keras.layers.BatchNormalization(axis=-1))   \n",
        "model.add(keras.layers.MaxPooling2D(pool_size=(2, 2)))\n",
        "model.add(keras.layers.Conv2D(32,kernel_size =  (3, 3), activation='relu'))\n",
        "model.add(keras.layers.BatchNormalization(axis=-1))   \n",
        "model.add(keras.layers.MaxPooling2D(pool_size=(2, 2)))\n",
        "model.add(keras.layers.Flatten())\n",
        "model.add(keras.layers.Dense(64, activation='relu'))\n",
        "model.add(keras.layers.Dense(32, activation='relu'))\n",
        "model.add(keras.layers.Dense(16, activation='softmax'))\n",
        "model.compile(loss=\"sparse_categorical_crossentropy\",\n",
        "              optimizer=\"Adam\",\n",
        "              metrics=[\"accuracy\"])\n",
        "model.summary()"
      ],
      "metadata": {
        "colab": {
          "base_uri": "https://localhost:8080/"
        },
        "id": "ENcoh6-CEnC6",
        "outputId": "2e1c46a1-750e-4a02-ff97-a7ee1094cd4d"
      },
      "id": "ENcoh6-CEnC6",
      "execution_count": null,
      "outputs": [
        {
          "output_type": "stream",
          "name": "stdout",
          "text": [
            "Model: \"sequential\"\n",
            "_________________________________________________________________\n",
            " Layer (type)                Output Shape              Param #   \n",
            "=================================================================\n",
            " conv2d (Conv2D)             (None, 48, 48, 32)        320       \n",
            "                                                                 \n",
            " batch_normalization (BatchN  (None, 48, 48, 32)       128       \n",
            " ormalization)                                                   \n",
            "                                                                 \n",
            " max_pooling2d (MaxPooling2D  (None, 24, 24, 32)       0         \n",
            " )                                                               \n",
            "                                                                 \n",
            " conv2d_1 (Conv2D)           (None, 22, 22, 64)        18496     \n",
            "                                                                 \n",
            " batch_normalization_1 (Batc  (None, 22, 22, 64)       256       \n",
            " hNormalization)                                                 \n",
            "                                                                 \n",
            " max_pooling2d_1 (MaxPooling  (None, 11, 11, 64)       0         \n",
            " 2D)                                                             \n",
            "                                                                 \n",
            " conv2d_2 (Conv2D)           (None, 9, 9, 32)          18464     \n",
            "                                                                 \n",
            " batch_normalization_2 (Batc  (None, 9, 9, 32)         128       \n",
            " hNormalization)                                                 \n",
            "                                                                 \n",
            " max_pooling2d_2 (MaxPooling  (None, 4, 4, 32)         0         \n",
            " 2D)                                                             \n",
            "                                                                 \n",
            " flatten (Flatten)           (None, 512)               0         \n",
            "                                                                 \n",
            " dense (Dense)               (None, 64)                32832     \n",
            "                                                                 \n",
            " dense_1 (Dense)             (None, 32)                2080      \n",
            "                                                                 \n",
            " dense_2 (Dense)             (None, 16)                528       \n",
            "                                                                 \n",
            "=================================================================\n",
            "Total params: 73,232\n",
            "Trainable params: 72,976\n",
            "Non-trainable params: 256\n",
            "_________________________________________________________________\n"
          ]
        }
      ]
    },
    {
      "cell_type": "code",
      "source": [
        "loss = model.fit(X_train, y_train, epochs=10,validation_data=[X_test,y_test])"
      ],
      "metadata": {
        "colab": {
          "base_uri": "https://localhost:8080/"
        },
        "outputId": "47d1f879-66fc-4970-afec-abf2bd97d31b",
        "id": "Lszsy1mfEvgO"
      },
      "execution_count": null,
      "outputs": [
        {
          "output_type": "stream",
          "name": "stdout",
          "text": [
            "Epoch 1/10\n",
            "219/219 [==============================] - 5s 14ms/step - loss: 0.9947 - accuracy: 0.6124 - val_loss: 2.8024 - val_accuracy: 0.1653\n",
            "Epoch 2/10\n",
            "219/219 [==============================] - 3s 12ms/step - loss: 0.3887 - accuracy: 0.8736 - val_loss: 3.3006 - val_accuracy: 0.1520\n",
            "Epoch 3/10\n",
            "219/219 [==============================] - 3s 12ms/step - loss: 0.2028 - accuracy: 0.9461 - val_loss: 0.5972 - val_accuracy: 0.7813\n",
            "Epoch 4/10\n",
            "219/219 [==============================] - 3s 12ms/step - loss: 0.1287 - accuracy: 0.9666 - val_loss: 0.3648 - val_accuracy: 0.9040\n",
            "Epoch 5/10\n",
            "219/219 [==============================] - 3s 12ms/step - loss: 0.0852 - accuracy: 0.9780 - val_loss: 0.2923 - val_accuracy: 0.9307\n",
            "Epoch 6/10\n",
            "219/219 [==============================] - 3s 12ms/step - loss: 0.0599 - accuracy: 0.9836 - val_loss: 0.2601 - val_accuracy: 0.9463\n",
            "Epoch 7/10\n",
            "219/219 [==============================] - 3s 12ms/step - loss: 0.0469 - accuracy: 0.9874 - val_loss: 0.2279 - val_accuracy: 0.9570\n",
            "Epoch 8/10\n",
            "219/219 [==============================] - 3s 13ms/step - loss: 0.0571 - accuracy: 0.9823 - val_loss: 1.4599 - val_accuracy: 0.7243\n",
            "Epoch 9/10\n",
            "219/219 [==============================] - 3s 12ms/step - loss: 0.0310 - accuracy: 0.9911 - val_loss: 0.2725 - val_accuracy: 0.9530\n",
            "Epoch 10/10\n",
            "219/219 [==============================] - 3s 13ms/step - loss: 0.0237 - accuracy: 0.9933 - val_loss: 0.2773 - val_accuracy: 0.9557\n"
          ]
        }
      ],
      "id": "Lszsy1mfEvgO"
    },
    {
      "cell_type": "code",
      "source": [
        "pred = model.predict(X_test).argmax(axis=1)\n",
        "print('Accuracy on test set - {0:.02%}'.format((pred == y_test).mean()))"
      ],
      "metadata": {
        "colab": {
          "base_uri": "https://localhost:8080/"
        },
        "outputId": "e8a794b3-1b49-49c5-a551-42e41e918495",
        "id": "_pk42aWFEvgP"
      },
      "execution_count": null,
      "outputs": [
        {
          "output_type": "stream",
          "name": "stdout",
          "text": [
            "Accuracy on test set - 95.57%\n"
          ]
        }
      ],
      "id": "_pk42aWFEvgP"
    },
    {
      "cell_type": "code",
      "source": [
        "model.save('cnn.h5')"
      ],
      "metadata": {
        "id": "YA_I_Jd6EvgP"
      },
      "execution_count": null,
      "outputs": [],
      "id": "YA_I_Jd6EvgP"
    },
    {
      "cell_type": "code",
      "source": [
        "model = keras.models.load_model('cnn.h5')\n",
        "evaluate('flatland_train.data', model)"
      ],
      "metadata": {
        "colab": {
          "base_uri": "https://localhost:8080/"
        },
        "outputId": "e810daaf-1c65-4db5-bb06-d3d742dcf708",
        "id": "tF5oncaAEvgP"
      },
      "execution_count": null,
      "outputs": [
        {
          "output_type": "execute_result",
          "data": {
            "text/plain": [
              "0.9818"
            ]
          },
          "metadata": {},
          "execution_count": 9
        }
      ],
      "id": "tF5oncaAEvgP"
    },
    {
      "cell_type": "markdown",
      "source": [
        "Train set accuracy 98.18% Test set (simple) accuracy 97.00% Test set (adv.) accuracy 76.00%"
      ],
      "metadata": {
        "id": "cWXnAeYHEvgP"
      },
      "id": "cWXnAeYHEvgP"
    },
    {
      "cell_type": "markdown",
      "source": [
        "### CNN 3 \n"
      ],
      "metadata": {
        "id": "t1dmprGVFoOz"
      },
      "id": "t1dmprGVFoOz"
    },
    {
      "cell_type": "code",
      "source": [
        "model = Sequential()\n",
        "model.add(keras.layers.Conv2D(32, kernel_size=(3, 3), activation='relu', input_shape=[50, 50, 1]))\n",
        "model.add(keras.layers.BatchNormalization(axis=-1))   \n",
        "model.add(keras.layers.MaxPooling2D(pool_size=(2, 2)))\n",
        "model.add(keras.layers.Conv2D(32,kernel_size =  (3, 3), activation='relu'))\n",
        "model.add(keras.layers.BatchNormalization(axis=-1))   \n",
        "model.add(keras.layers.MaxPooling2D(pool_size=(2, 2)))\n",
        "model.add(keras.layers.Flatten())\n",
        "model.add(keras.layers.Dense(64, activation='relu'))\n",
        "model.add(keras.layers.Dense(32, activation='relu'))\n",
        "model.add(keras.layers.Dense(32, activation='relu'))\n",
        "model.add(keras.layers.Dense(16, activation='softmax'))\n",
        "model.compile(loss=\"sparse_categorical_crossentropy\",\n",
        "              optimizer=\"Adam\",\n",
        "              metrics=[\"accuracy\"])\n",
        "model.summary()"
      ],
      "metadata": {
        "colab": {
          "base_uri": "https://localhost:8080/"
        },
        "outputId": "14e1930e-b137-43b1-e9bd-d2ef657580c7",
        "id": "EYQhSCHGFoO0"
      },
      "execution_count": null,
      "outputs": [
        {
          "output_type": "stream",
          "name": "stdout",
          "text": [
            "Model: \"sequential_1\"\n",
            "_________________________________________________________________\n",
            " Layer (type)                Output Shape              Param #   \n",
            "=================================================================\n",
            " conv2d_3 (Conv2D)           (None, 48, 48, 32)        320       \n",
            "                                                                 \n",
            " batch_normalization_3 (Batc  (None, 48, 48, 32)       128       \n",
            " hNormalization)                                                 \n",
            "                                                                 \n",
            " max_pooling2d_3 (MaxPooling  (None, 24, 24, 32)       0         \n",
            " 2D)                                                             \n",
            "                                                                 \n",
            " conv2d_4 (Conv2D)           (None, 22, 22, 32)        9248      \n",
            "                                                                 \n",
            " batch_normalization_4 (Batc  (None, 22, 22, 32)       128       \n",
            " hNormalization)                                                 \n",
            "                                                                 \n",
            " max_pooling2d_4 (MaxPooling  (None, 11, 11, 32)       0         \n",
            " 2D)                                                             \n",
            "                                                                 \n",
            " flatten_1 (Flatten)         (None, 3872)              0         \n",
            "                                                                 \n",
            " dense_2 (Dense)             (None, 64)                247872    \n",
            "                                                                 \n",
            " dense_3 (Dense)             (None, 32)                2080      \n",
            "                                                                 \n",
            " dense_4 (Dense)             (None, 32)                1056      \n",
            "                                                                 \n",
            " dense_5 (Dense)             (None, 16)                528       \n",
            "                                                                 \n",
            "=================================================================\n",
            "Total params: 261,360\n",
            "Trainable params: 261,232\n",
            "Non-trainable params: 128\n",
            "_________________________________________________________________\n"
          ]
        }
      ],
      "id": "EYQhSCHGFoO0"
    },
    {
      "cell_type": "code",
      "source": [
        "loss = model.fit(X_train, y_train, epochs=10,validation_data=[X_test,y_test])"
      ],
      "metadata": {
        "colab": {
          "base_uri": "https://localhost:8080/"
        },
        "outputId": "9a32ffd7-8073-445c-ae56-84ba3297e3a2",
        "id": "xz4QPt4gFoO0"
      },
      "execution_count": null,
      "outputs": [
        {
          "output_type": "stream",
          "name": "stdout",
          "text": [
            "Epoch 1/10\n",
            "219/219 [==============================] - 4s 14ms/step - loss: 1.0661 - accuracy: 0.5894 - val_loss: 2.8917 - val_accuracy: 0.1830\n",
            "Epoch 2/10\n",
            "219/219 [==============================] - 2s 11ms/step - loss: 0.3729 - accuracy: 0.8826 - val_loss: 3.9460 - val_accuracy: 0.2387\n",
            "Epoch 3/10\n",
            "219/219 [==============================] - 3s 11ms/step - loss: 0.1922 - accuracy: 0.9521 - val_loss: 3.2540 - val_accuracy: 0.3370\n",
            "Epoch 4/10\n",
            "219/219 [==============================] - 3s 12ms/step - loss: 0.1383 - accuracy: 0.9634 - val_loss: 0.2318 - val_accuracy: 0.9497\n",
            "Epoch 5/10\n",
            "219/219 [==============================] - 3s 12ms/step - loss: 0.0863 - accuracy: 0.9789 - val_loss: 0.2936 - val_accuracy: 0.9180\n",
            "Epoch 6/10\n",
            "219/219 [==============================] - 2s 11ms/step - loss: 0.0723 - accuracy: 0.9780 - val_loss: 0.3504 - val_accuracy: 0.9040\n",
            "Epoch 7/10\n",
            "219/219 [==============================] - 3s 12ms/step - loss: 0.0645 - accuracy: 0.9799 - val_loss: 0.4543 - val_accuracy: 0.8973\n",
            "Epoch 8/10\n",
            "219/219 [==============================] - 2s 11ms/step - loss: 0.0469 - accuracy: 0.9843 - val_loss: 0.4656 - val_accuracy: 0.8890\n",
            "Epoch 9/10\n",
            "219/219 [==============================] - 3s 12ms/step - loss: 0.0371 - accuracy: 0.9884 - val_loss: 0.2568 - val_accuracy: 0.9580\n",
            "Epoch 10/10\n",
            "219/219 [==============================] - 2s 11ms/step - loss: 0.0330 - accuracy: 0.9907 - val_loss: 0.2619 - val_accuracy: 0.9617\n"
          ]
        }
      ],
      "id": "xz4QPt4gFoO0"
    },
    {
      "cell_type": "code",
      "source": [
        "pred = model.predict(X_test).argmax(axis=1)\n",
        "print('Accuracy on test set - {0:.02%}'.format((pred == y_test).mean()))"
      ],
      "metadata": {
        "colab": {
          "base_uri": "https://localhost:8080/"
        },
        "outputId": "c3bbe018-900c-4f94-b451-fa310f07f69e",
        "id": "tioBgJctFoO1"
      },
      "execution_count": null,
      "outputs": [
        {
          "output_type": "stream",
          "name": "stdout",
          "text": [
            "Accuracy on test set - 96.17%\n"
          ]
        }
      ],
      "id": "tioBgJctFoO1"
    },
    {
      "cell_type": "code",
      "source": [
        "model.save('cnn.h5')"
      ],
      "metadata": {
        "id": "h40ZOttcFoO1"
      },
      "execution_count": null,
      "outputs": [],
      "id": "h40ZOttcFoO1"
    },
    {
      "cell_type": "code",
      "source": [
        "model = keras.models.load_model('cnn.h5')\n",
        "evaluate('flatland_train.data', model)"
      ],
      "metadata": {
        "colab": {
          "base_uri": "https://localhost:8080/"
        },
        "outputId": "e006262c-151e-4a8d-de40-596dc3c18a14",
        "id": "Xlu0Q7tAFoO1"
      },
      "execution_count": null,
      "outputs": [
        {
          "output_type": "execute_result",
          "data": {
            "text/plain": [
              "0.9823"
            ]
          },
          "metadata": {},
          "execution_count": 11
        }
      ],
      "id": "Xlu0Q7tAFoO1"
    },
    {
      "cell_type": "markdown",
      "source": [
        "Train set accuracy 98.51% Test set (simple) accuracy 98.00% Test set (adv.) accuracy 79.01%"
      ],
      "metadata": {
        "id": "YChCuiXYFoO1"
      },
      "id": "YChCuiXYFoO1"
    },
    {
      "cell_type": "markdown",
      "source": [
        "### CNN 4 blogiau nei CNN3\n",
        "\n"
      ],
      "metadata": {
        "id": "-YPrMDuxHyAw"
      },
      "id": "-YPrMDuxHyAw"
    },
    {
      "cell_type": "code",
      "source": [
        "model = Sequential()\n",
        "model.add(keras.layers.Conv2D(64, kernel_size=(3, 3), activation='relu', input_shape=[50, 50, 1]))\n",
        "model.add(keras.layers.BatchNormalization(axis=-1))   \n",
        "model.add(keras.layers.MaxPooling2D(pool_size=(2, 2)))\n",
        "model.add(keras.layers.Conv2D(32,kernel_size =  (3, 3), activation='relu'))\n",
        "model.add(keras.layers.BatchNormalization(axis=-1))   \n",
        "model.add(keras.layers.MaxPooling2D(pool_size=(2, 2)))\n",
        "model.add(keras.layers.Flatten())\n",
        "model.add(keras.layers.Dense(64, activation='relu'))\n",
        "model.add(keras.layers.Dense(32, activation='relu'))\n",
        "model.add(keras.layers.Dense(32, activation='relu'))\n",
        "model.add(keras.layers.Dense(16, activation='softmax'))\n",
        "model.compile(loss=\"sparse_categorical_crossentropy\",\n",
        "              optimizer=\"Adam\",\n",
        "              metrics=[\"accuracy\"])\n",
        "model.summary()"
      ],
      "metadata": {
        "colab": {
          "base_uri": "https://localhost:8080/"
        },
        "outputId": "821b7f2b-701c-4a97-9997-3c08bf5f31a7",
        "id": "TddA18d5HyAw"
      },
      "execution_count": null,
      "outputs": [
        {
          "output_type": "stream",
          "name": "stdout",
          "text": [
            "Model: \"sequential\"\n",
            "_________________________________________________________________\n",
            " Layer (type)                Output Shape              Param #   \n",
            "=================================================================\n",
            " conv2d (Conv2D)             (None, 48, 48, 64)        640       \n",
            "                                                                 \n",
            " batch_normalization (BatchN  (None, 48, 48, 64)       256       \n",
            " ormalization)                                                   \n",
            "                                                                 \n",
            " max_pooling2d (MaxPooling2D  (None, 24, 24, 64)       0         \n",
            " )                                                               \n",
            "                                                                 \n",
            " conv2d_1 (Conv2D)           (None, 22, 22, 32)        18464     \n",
            "                                                                 \n",
            " batch_normalization_1 (Batc  (None, 22, 22, 32)       128       \n",
            " hNormalization)                                                 \n",
            "                                                                 \n",
            " max_pooling2d_1 (MaxPooling  (None, 11, 11, 32)       0         \n",
            " 2D)                                                             \n",
            "                                                                 \n",
            " flatten (Flatten)           (None, 3872)              0         \n",
            "                                                                 \n",
            " dense (Dense)               (None, 64)                247872    \n",
            "                                                                 \n",
            " dense_1 (Dense)             (None, 32)                2080      \n",
            "                                                                 \n",
            " dense_2 (Dense)             (None, 32)                1056      \n",
            "                                                                 \n",
            " dense_3 (Dense)             (None, 16)                528       \n",
            "                                                                 \n",
            "=================================================================\n",
            "Total params: 271,024\n",
            "Trainable params: 270,832\n",
            "Non-trainable params: 192\n",
            "_________________________________________________________________\n"
          ]
        }
      ],
      "id": "TddA18d5HyAw"
    },
    {
      "cell_type": "code",
      "source": [
        "loss = model.fit(X_train, y_train, epochs=10,validation_data=[X_test,y_test])"
      ],
      "metadata": {
        "colab": {
          "base_uri": "https://localhost:8080/"
        },
        "outputId": "ccf07fd7-1122-400e-fd40-c0eabd9557e4",
        "id": "OsH2P83_HyAx"
      },
      "execution_count": null,
      "outputs": [
        {
          "output_type": "stream",
          "name": "stdout",
          "text": [
            "Epoch 1/10\n",
            "219/219 [==============================] - 9s 24ms/step - loss: 1.2795 - accuracy: 0.4846 - val_loss: 2.8353 - val_accuracy: 0.1810\n",
            "Epoch 2/10\n",
            "219/219 [==============================] - 5s 22ms/step - loss: 0.7276 - accuracy: 0.7139 - val_loss: 4.1580 - val_accuracy: 0.1500\n",
            "Epoch 3/10\n",
            "219/219 [==============================] - 5s 21ms/step - loss: 0.3700 - accuracy: 0.8880 - val_loss: 1.5497 - val_accuracy: 0.3767\n",
            "Epoch 4/10\n",
            "219/219 [==============================] - 3s 15ms/step - loss: 0.2350 - accuracy: 0.9411 - val_loss: 0.2960 - val_accuracy: 0.9357\n",
            "Epoch 5/10\n",
            "219/219 [==============================] - 3s 14ms/step - loss: 0.1771 - accuracy: 0.9514 - val_loss: 0.6485 - val_accuracy: 0.7950\n",
            "Epoch 6/10\n",
            "219/219 [==============================] - 3s 14ms/step - loss: 0.1432 - accuracy: 0.9611 - val_loss: 0.2654 - val_accuracy: 0.9447\n",
            "Epoch 7/10\n",
            "219/219 [==============================] - 3s 14ms/step - loss: 0.1127 - accuracy: 0.9667 - val_loss: 0.3945 - val_accuracy: 0.8957\n",
            "Epoch 8/10\n",
            "219/219 [==============================] - 3s 14ms/step - loss: 0.0932 - accuracy: 0.9726 - val_loss: 0.4304 - val_accuracy: 0.8907\n",
            "Epoch 9/10\n",
            "219/219 [==============================] - 3s 13ms/step - loss: 0.0743 - accuracy: 0.9764 - val_loss: 0.3140 - val_accuracy: 0.9453\n",
            "Epoch 10/10\n",
            "219/219 [==============================] - 3s 13ms/step - loss: 0.0602 - accuracy: 0.9823 - val_loss: 0.3083 - val_accuracy: 0.9467\n"
          ]
        }
      ],
      "id": "OsH2P83_HyAx"
    },
    {
      "cell_type": "code",
      "source": [
        "pred = model.predict(X_test).argmax(axis=1)\n",
        "print('Accuracy on test set - {0:.02%}'.format((pred == y_test).mean()))"
      ],
      "metadata": {
        "colab": {
          "base_uri": "https://localhost:8080/"
        },
        "outputId": "0eaea26f-0b5c-435a-f3d6-e0e588310c6f",
        "id": "t-ccxXsKHyAx"
      },
      "execution_count": null,
      "outputs": [
        {
          "output_type": "stream",
          "name": "stdout",
          "text": [
            "Accuracy on test set - 94.67%\n"
          ]
        }
      ],
      "id": "t-ccxXsKHyAx"
    },
    {
      "cell_type": "code",
      "source": [
        "model.save('cnn.h5')"
      ],
      "metadata": {
        "id": "sg-viwgOHyAx"
      },
      "execution_count": null,
      "outputs": [],
      "id": "sg-viwgOHyAx"
    },
    {
      "cell_type": "code",
      "source": [
        "model = keras.models.load_model('cnn.h5')\n",
        "evaluate('flatland_train.data', model)"
      ],
      "metadata": {
        "id": "y4u1weLIHyAy"
      },
      "execution_count": null,
      "outputs": [],
      "id": "y4u1weLIHyAy"
    },
    {
      "cell_type": "markdown",
      "source": [
        "### CNN 5\n",
        "\n"
      ],
      "metadata": {
        "id": "fnLbpH0CInfI"
      },
      "id": "fnLbpH0CInfI"
    },
    {
      "cell_type": "code",
      "source": [
        "model = Sequential()\n",
        "model.add(keras.layers.Conv2D(32, kernel_size=(3, 3), activation='relu', input_shape=[50, 50, 1]))\n",
        "model.add(keras.layers.BatchNormalization(axis=-1))   \n",
        "model.add(keras.layers.MaxPooling2D(pool_size=(2, 2)))\n",
        "model.add(keras.layers.Conv2D(32,kernel_size =  (3, 3), activation='relu'))\n",
        "model.add(keras.layers.BatchNormalization(axis=-1))   \n",
        "model.add(keras.layers.MaxPooling2D(pool_size=(2, 2)))\n",
        "model.add(keras.layers.Flatten())\n",
        "model.add(keras.layers.Dense(64, activation='relu'))\n",
        "model.add(keras.layers.Dense(16, activation='relu'))\n",
        "model.add(keras.layers.Dense(8, activation='softmax'))\n",
        "model.compile(loss=\"sparse_categorical_crossentropy\",\n",
        "              optimizer=\"Adam\",\n",
        "              metrics=[\"accuracy\"])\n",
        "model.summary()"
      ],
      "metadata": {
        "colab": {
          "base_uri": "https://localhost:8080/"
        },
        "outputId": "caa86b26-c8b6-439b-98ad-b3f3e3811a8d",
        "id": "kTP1GiYyInfI"
      },
      "execution_count": null,
      "outputs": [
        {
          "output_type": "stream",
          "name": "stdout",
          "text": [
            "Model: \"sequential\"\n",
            "_________________________________________________________________\n",
            " Layer (type)                Output Shape              Param #   \n",
            "=================================================================\n",
            " conv2d (Conv2D)             (None, 48, 48, 32)        320       \n",
            "                                                                 \n",
            " batch_normalization (BatchN  (None, 48, 48, 32)       128       \n",
            " ormalization)                                                   \n",
            "                                                                 \n",
            " max_pooling2d (MaxPooling2D  (None, 24, 24, 32)       0         \n",
            " )                                                               \n",
            "                                                                 \n",
            " conv2d_1 (Conv2D)           (None, 22, 22, 32)        9248      \n",
            "                                                                 \n",
            " batch_normalization_1 (Batc  (None, 22, 22, 32)       128       \n",
            " hNormalization)                                                 \n",
            "                                                                 \n",
            " max_pooling2d_1 (MaxPooling  (None, 11, 11, 32)       0         \n",
            " 2D)                                                             \n",
            "                                                                 \n",
            " flatten (Flatten)           (None, 3872)              0         \n",
            "                                                                 \n",
            " dense (Dense)               (None, 64)                247872    \n",
            "                                                                 \n",
            " dense_1 (Dense)             (None, 16)                1040      \n",
            "                                                                 \n",
            " dense_2 (Dense)             (None, 8)                 136       \n",
            "                                                                 \n",
            "=================================================================\n",
            "Total params: 258,872\n",
            "Trainable params: 258,744\n",
            "Non-trainable params: 128\n",
            "_________________________________________________________________\n"
          ]
        }
      ],
      "id": "kTP1GiYyInfI"
    },
    {
      "cell_type": "code",
      "source": [
        "loss = model.fit(X_train, y_train, epochs=10,validation_data=[X_test,y_test])"
      ],
      "metadata": {
        "colab": {
          "base_uri": "https://localhost:8080/"
        },
        "outputId": "ee31143c-6c62-4944-e0b4-5da0af0b989c",
        "id": "cNEwgqvrInfJ"
      },
      "execution_count": null,
      "outputs": [
        {
          "output_type": "stream",
          "name": "stdout",
          "text": [
            "Epoch 1/10\n",
            "219/219 [==============================] - 9s 20ms/step - loss: 1.0643 - accuracy: 0.5827 - val_loss: 2.7719 - val_accuracy: 0.2027\n",
            "Epoch 2/10\n",
            "219/219 [==============================] - 3s 16ms/step - loss: 0.4375 - accuracy: 0.8564 - val_loss: 3.0541 - val_accuracy: 0.2073\n",
            "Epoch 3/10\n",
            "219/219 [==============================] - 4s 20ms/step - loss: 0.2261 - accuracy: 0.9431 - val_loss: 1.0810 - val_accuracy: 0.5563\n",
            "Epoch 4/10\n",
            "219/219 [==============================] - 4s 16ms/step - loss: 0.1354 - accuracy: 0.9674 - val_loss: 0.2785 - val_accuracy: 0.9413\n",
            "Epoch 5/10\n",
            "219/219 [==============================] - 3s 16ms/step - loss: 0.0989 - accuracy: 0.9736 - val_loss: 0.2628 - val_accuracy: 0.9397\n",
            "Epoch 6/10\n",
            "219/219 [==============================] - 4s 17ms/step - loss: 0.0600 - accuracy: 0.9833 - val_loss: 0.2737 - val_accuracy: 0.9523\n",
            "Epoch 7/10\n",
            "219/219 [==============================] - 3s 13ms/step - loss: 0.0483 - accuracy: 0.9857 - val_loss: 0.3092 - val_accuracy: 0.9467\n",
            "Epoch 8/10\n",
            "219/219 [==============================] - 3s 12ms/step - loss: 0.0525 - accuracy: 0.9827 - val_loss: 0.3382 - val_accuracy: 0.9247\n",
            "Epoch 9/10\n",
            "219/219 [==============================] - 2s 11ms/step - loss: 0.0413 - accuracy: 0.9871 - val_loss: 0.2991 - val_accuracy: 0.9467\n",
            "Epoch 10/10\n",
            "219/219 [==============================] - 3s 13ms/step - loss: 0.0267 - accuracy: 0.9919 - val_loss: 0.3035 - val_accuracy: 0.9663\n"
          ]
        }
      ],
      "id": "cNEwgqvrInfJ"
    },
    {
      "cell_type": "code",
      "source": [
        "pred = model.predict(X_test).argmax(axis=1)\n",
        "print('Accuracy on test set - {0:.02%}'.format((pred == y_test).mean()))"
      ],
      "metadata": {
        "colab": {
          "base_uri": "https://localhost:8080/"
        },
        "outputId": "c3171c06-d218-401f-a0e0-40429fc87022",
        "id": "WL5bhB9WInfJ"
      },
      "execution_count": null,
      "outputs": [
        {
          "output_type": "stream",
          "name": "stdout",
          "text": [
            "Accuracy on test set - 96.63%\n"
          ]
        }
      ],
      "id": "WL5bhB9WInfJ"
    },
    {
      "cell_type": "code",
      "source": [
        "model.save('cnn.h5')"
      ],
      "metadata": {
        "id": "yxH6YnU2InfJ"
      },
      "execution_count": null,
      "outputs": [],
      "id": "yxH6YnU2InfJ"
    },
    {
      "cell_type": "code",
      "source": [
        "model = keras.models.load_model('cnn.h5')\n",
        "evaluate('flatland_train.data', model)"
      ],
      "metadata": {
        "colab": {
          "base_uri": "https://localhost:8080/"
        },
        "outputId": "0671d479-96b2-4193-f31d-feb244e1a419",
        "id": "pQWkpQoWInfK"
      },
      "execution_count": null,
      "outputs": [
        {
          "output_type": "execute_result",
          "data": {
            "text/plain": [
              "0.9873"
            ]
          },
          "metadata": {},
          "execution_count": 9
        }
      ],
      "id": "pQWkpQoWInfK"
    },
    {
      "cell_type": "markdown",
      "source": [
        "Train set accuracy 98.73% Test set (simple) accuracy 97.99% Test set (adv.) accuracy 76.40%"
      ],
      "metadata": {
        "id": "d3e4FIHmInfK"
      },
      "id": "d3e4FIHmInfK"
    },
    {
      "cell_type": "markdown",
      "source": [
        "### CNN 6\n",
        "\n"
      ],
      "metadata": {
        "id": "ruWtJ8-VLHTb"
      },
      "id": "ruWtJ8-VLHTb"
    },
    {
      "cell_type": "code",
      "source": [
        "model = Sequential()\n",
        "model.add(keras.layers.Conv2D(32, kernel_size=(3, 3), activation='relu', input_shape=[50, 50, 1]))\n",
        "model.add(keras.layers.BatchNormalization(axis=-1))   \n",
        "model.add(keras.layers.MaxPooling2D(pool_size=(2, 2), strides = 2))\n",
        "model.add(keras.layers.Conv2D(64,kernel_size =  (3, 3), activation='relu'))\n",
        "model.add(keras.layers.BatchNormalization(axis=-1))   \n",
        "model.add(keras.layers.MaxPooling2D(pool_size=(2, 2), strides = 2))\n",
        "model.add(keras.layers.Conv2D(128,kernel_size =  (3, 3), activation='relu'))\n",
        "model.add(keras.layers.BatchNormalization(axis=-1))   \n",
        "model.add(keras.layers.MaxPooling2D(pool_size=(2, 2), strides = 2))\n",
        "model.add(keras.layers.Conv2D(256,kernel_size =  (3, 3), activation='relu'))\n",
        "model.add(keras.layers.BatchNormalization(axis=-1))   \n",
        "model.add(keras.layers.MaxPooling2D(pool_size=(2, 2), strides = 2))\n",
        "model.add(Dropout(0.25))\n",
        "model.add(keras.layers.Flatten())\n",
        "model.add(keras.layers.Dense(64, activation='relu'))\n",
        "model.add(keras.layers.Dense(32, activation='relu'))\n",
        "model.add(keras.layers.Dense(32, activation='relu'))\n",
        "model.add(Dropout(0.5))\n",
        "model.add(keras.layers.Dense(16, activation='softmax'))\n",
        "model.compile(loss=\"sparse_categorical_crossentropy\",\n",
        "              optimizer=\"Adam\",\n",
        "              metrics=[\"accuracy\"])\n",
        "model.summary()"
      ],
      "metadata": {
        "colab": {
          "base_uri": "https://localhost:8080/"
        },
        "outputId": "416b4351-eee9-4529-ad44-31bacf036b86",
        "id": "xAD8gWnVLHTb"
      },
      "execution_count": null,
      "outputs": [
        {
          "output_type": "stream",
          "name": "stdout",
          "text": [
            "Model: \"sequential\"\n",
            "_________________________________________________________________\n",
            " Layer (type)                Output Shape              Param #   \n",
            "=================================================================\n",
            " conv2d (Conv2D)             (None, 48, 48, 32)        320       \n",
            "                                                                 \n",
            " batch_normalization (BatchN  (None, 48, 48, 32)       128       \n",
            " ormalization)                                                   \n",
            "                                                                 \n",
            " max_pooling2d (MaxPooling2D  (None, 24, 24, 32)       0         \n",
            " )                                                               \n",
            "                                                                 \n",
            " conv2d_1 (Conv2D)           (None, 22, 22, 64)        18496     \n",
            "                                                                 \n",
            " batch_normalization_1 (Batc  (None, 22, 22, 64)       256       \n",
            " hNormalization)                                                 \n",
            "                                                                 \n",
            " max_pooling2d_1 (MaxPooling  (None, 11, 11, 64)       0         \n",
            " 2D)                                                             \n",
            "                                                                 \n",
            " conv2d_2 (Conv2D)           (None, 9, 9, 128)         73856     \n",
            "                                                                 \n",
            " batch_normalization_2 (Batc  (None, 9, 9, 128)        512       \n",
            " hNormalization)                                                 \n",
            "                                                                 \n",
            " max_pooling2d_2 (MaxPooling  (None, 4, 4, 128)        0         \n",
            " 2D)                                                             \n",
            "                                                                 \n",
            " conv2d_3 (Conv2D)           (None, 2, 2, 256)         295168    \n",
            "                                                                 \n",
            " batch_normalization_3 (Batc  (None, 2, 2, 256)        1024      \n",
            " hNormalization)                                                 \n",
            "                                                                 \n",
            " max_pooling2d_3 (MaxPooling  (None, 1, 1, 256)        0         \n",
            " 2D)                                                             \n",
            "                                                                 \n",
            " dropout (Dropout)           (None, 1, 1, 256)         0         \n",
            "                                                                 \n",
            " flatten (Flatten)           (None, 256)               0         \n",
            "                                                                 \n",
            " dense (Dense)               (None, 64)                16448     \n",
            "                                                                 \n",
            " dense_1 (Dense)             (None, 32)                2080      \n",
            "                                                                 \n",
            " dense_2 (Dense)             (None, 32)                1056      \n",
            "                                                                 \n",
            " dropout_1 (Dropout)         (None, 32)                0         \n",
            "                                                                 \n",
            " dense_3 (Dense)             (None, 16)                528       \n",
            "                                                                 \n",
            "=================================================================\n",
            "Total params: 409,872\n",
            "Trainable params: 408,912\n",
            "Non-trainable params: 960\n",
            "_________________________________________________________________\n"
          ]
        }
      ],
      "id": "xAD8gWnVLHTb"
    },
    {
      "cell_type": "code",
      "source": [
        "loss = model.fit(X_train, y_train, epochs=10,validation_data=[X_test,y_test])"
      ],
      "metadata": {
        "colab": {
          "base_uri": "https://localhost:8080/"
        },
        "outputId": "e40d1407-d3f3-441d-e2b8-79825e401eb3",
        "id": "hAX1e-yiLHTb"
      },
      "execution_count": null,
      "outputs": [
        {
          "output_type": "stream",
          "name": "stdout",
          "text": [
            "Epoch 1/10\n",
            "219/219 [==============================] - 11s 26ms/step - loss: 1.5124 - accuracy: 0.4510 - val_loss: 2.2258 - val_accuracy: 0.1907\n",
            "Epoch 2/10\n",
            "219/219 [==============================] - 5s 22ms/step - loss: 0.6198 - accuracy: 0.7863 - val_loss: 3.0051 - val_accuracy: 0.2887\n",
            "Epoch 3/10\n",
            "219/219 [==============================] - 5s 21ms/step - loss: 0.3456 - accuracy: 0.9136 - val_loss: 0.4005 - val_accuracy: 0.8970\n",
            "Epoch 4/10\n",
            "219/219 [==============================] - 4s 19ms/step - loss: 0.2643 - accuracy: 0.9377 - val_loss: 0.1822 - val_accuracy: 0.9707\n",
            "Epoch 5/10\n",
            "219/219 [==============================] - 4s 16ms/step - loss: 0.2107 - accuracy: 0.9579 - val_loss: 0.1687 - val_accuracy: 0.9770\n",
            "Epoch 6/10\n",
            "219/219 [==============================] - 3s 16ms/step - loss: 0.1922 - accuracy: 0.9640 - val_loss: 0.3488 - val_accuracy: 0.9253\n",
            "Epoch 7/10\n",
            "219/219 [==============================] - 3s 15ms/step - loss: 0.1865 - accuracy: 0.9590 - val_loss: 0.1539 - val_accuracy: 0.9807\n",
            "Epoch 8/10\n",
            "219/219 [==============================] - 3s 15ms/step - loss: 0.1674 - accuracy: 0.9667 - val_loss: 0.1796 - val_accuracy: 0.9693\n",
            "Epoch 9/10\n",
            "219/219 [==============================] - 3s 15ms/step - loss: 0.1723 - accuracy: 0.9670 - val_loss: 0.1735 - val_accuracy: 0.9757\n",
            "Epoch 10/10\n",
            "219/219 [==============================] - 3s 15ms/step - loss: 0.1563 - accuracy: 0.9680 - val_loss: 0.1749 - val_accuracy: 0.9787\n"
          ]
        }
      ],
      "id": "hAX1e-yiLHTb"
    },
    {
      "cell_type": "code",
      "source": [
        "pred = model.predict(X_test).argmax(axis=1)\n",
        "print('Accuracy on test set - {0:.02%}'.format((pred == y_test).mean()))\n"
      ],
      "metadata": {
        "colab": {
          "base_uri": "https://localhost:8080/"
        },
        "outputId": "944114ca-80c4-47ea-bd8e-e6d146eebcdd",
        "id": "FIefv3Y-LHTc"
      },
      "execution_count": null,
      "outputs": [
        {
          "output_type": "stream",
          "name": "stdout",
          "text": [
            "Accuracy on test set - 97.87%\n"
          ]
        }
      ],
      "id": "FIefv3Y-LHTc"
    },
    {
      "cell_type": "code",
      "source": [
        "model.save('cnn.h5')"
      ],
      "metadata": {
        "id": "mXVj74BTLHTc"
      },
      "execution_count": null,
      "outputs": [],
      "id": "mXVj74BTLHTc"
    },
    {
      "cell_type": "code",
      "source": [
        "model = keras.models.load_model('cnn.h5')\n",
        "evaluate('flatland_train.data', model)"
      ],
      "metadata": {
        "colab": {
          "base_uri": "https://localhost:8080/"
        },
        "outputId": "69d866f6-004d-49bc-ef56-aa1f4dd80137",
        "id": "cTR9rn6HLHTc"
      },
      "execution_count": null,
      "outputs": [
        {
          "output_type": "execute_result",
          "data": {
            "text/plain": [
              "0.9831"
            ]
          },
          "metadata": {},
          "execution_count": 9
        }
      ],
      "id": "cTR9rn6HLHTc"
    },
    {
      "cell_type": "markdown",
      "source": [
        "Train set accuracy 98.31% Test set (simple) accuracy 99.31% Test set (adv.) accuracy 80.94%"
      ],
      "metadata": {
        "id": "4KBolS2ULHTc"
      },
      "id": "4KBolS2ULHTc"
    },
    {
      "cell_type": "markdown",
      "source": [
        "### CNN 7\n",
        "\n"
      ],
      "metadata": {
        "id": "p4LLHJgeRqi3"
      },
      "id": "p4LLHJgeRqi3"
    },
    {
      "cell_type": "code",
      "source": [
        "model = Sequential()\n",
        "model.add(keras.layers.Conv2D(32, kernel_size=(3, 3), activation='relu', input_shape=[50, 50, 1]))\n",
        "model.add(keras.layers.BatchNormalization(axis=-1))   \n",
        "model.add(keras.layers.MaxPooling2D(pool_size=(2, 2), strides = 2))\n",
        "model.add(keras.layers.Conv2D(32,kernel_size =  (3, 3), activation='relu'))\n",
        "model.add(keras.layers.BatchNormalization(axis=-1))   \n",
        "model.add(keras.layers.MaxPooling2D(pool_size=(2, 2), strides = 2))\n",
        "model.add(Dropout(0.25))\n",
        "model.add(keras.layers.Flatten())\n",
        "# model.add(keras.layers.Dense(64, activation='relu'))\n",
        "# model.add(keras.layers.Dense(32, activation='relu'))\n",
        "model.add(keras.layers.Dense(100, activation='relu'))\n",
        "model.add(Dropout(0.5))\n",
        "model.add(keras.layers.Dense(5, activation='softmax'))\n",
        "model.compile(loss=\"sparse_categorical_crossentropy\",\n",
        "              optimizer=\"Adam\",\n",
        "              metrics=[\"accuracy\"])\n",
        "model.summary()"
      ],
      "metadata": {
        "colab": {
          "base_uri": "https://localhost:8080/"
        },
        "outputId": "67686fff-8353-4d0b-d0a6-44bc4b3e08ae",
        "id": "7lnpFWH7Rqi4"
      },
      "execution_count": null,
      "outputs": [
        {
          "output_type": "stream",
          "name": "stdout",
          "text": [
            "Model: \"sequential_1\"\n",
            "_________________________________________________________________\n",
            " Layer (type)                Output Shape              Param #   \n",
            "=================================================================\n",
            " conv2d_2 (Conv2D)           (None, 48, 48, 32)        320       \n",
            "                                                                 \n",
            " batch_normalization_2 (Batc  (None, 48, 48, 32)       128       \n",
            " hNormalization)                                                 \n",
            "                                                                 \n",
            " max_pooling2d_2 (MaxPooling  (None, 24, 24, 32)       0         \n",
            " 2D)                                                             \n",
            "                                                                 \n",
            " conv2d_3 (Conv2D)           (None, 22, 22, 32)        9248      \n",
            "                                                                 \n",
            " batch_normalization_3 (Batc  (None, 22, 22, 32)       128       \n",
            " hNormalization)                                                 \n",
            "                                                                 \n",
            " max_pooling2d_3 (MaxPooling  (None, 11, 11, 32)       0         \n",
            " 2D)                                                             \n",
            "                                                                 \n",
            " dropout_2 (Dropout)         (None, 11, 11, 32)        0         \n",
            "                                                                 \n",
            " flatten_1 (Flatten)         (None, 3872)              0         \n",
            "                                                                 \n",
            " dense_2 (Dense)             (None, 100)               387300    \n",
            "                                                                 \n",
            " dropout_3 (Dropout)         (None, 100)               0         \n",
            "                                                                 \n",
            " dense_3 (Dense)             (None, 5)                 505       \n",
            "                                                                 \n",
            "=================================================================\n",
            "Total params: 397,629\n",
            "Trainable params: 397,501\n",
            "Non-trainable params: 128\n",
            "_________________________________________________________________\n"
          ]
        }
      ],
      "id": "7lnpFWH7Rqi4"
    },
    {
      "cell_type": "code",
      "source": [
        "loss = model.fit(X_train, y_train, epochs=20,validation_data=[X_test,y_test])"
      ],
      "metadata": {
        "colab": {
          "base_uri": "https://localhost:8080/"
        },
        "outputId": "9074227d-5ada-4bb4-b189-8cce191cb2b4",
        "id": "4OHT7EawRqi4"
      },
      "execution_count": null,
      "outputs": [
        {
          "output_type": "stream",
          "name": "stdout",
          "text": [
            "Epoch 1/20\n",
            "219/219 [==============================] - 4s 15ms/step - loss: 1.4980 - accuracy: 0.4146 - val_loss: 5.1241 - val_accuracy: 0.2770\n",
            "Epoch 2/20\n",
            "219/219 [==============================] - 3s 12ms/step - loss: 1.1951 - accuracy: 0.4937 - val_loss: 1.7515 - val_accuracy: 0.3263\n",
            "Epoch 3/20\n",
            "219/219 [==============================] - 3s 12ms/step - loss: 1.0108 - accuracy: 0.5789 - val_loss: 1.4379 - val_accuracy: 0.4270\n",
            "Epoch 4/20\n",
            "219/219 [==============================] - 2s 11ms/step - loss: 0.7594 - accuracy: 0.6964 - val_loss: 0.9676 - val_accuracy: 0.5990\n",
            "Epoch 5/20\n",
            "219/219 [==============================] - 3s 12ms/step - loss: 0.6445 - accuracy: 0.7537 - val_loss: 0.5336 - val_accuracy: 0.8100\n",
            "Epoch 6/20\n",
            "219/219 [==============================] - 3s 12ms/step - loss: 0.5414 - accuracy: 0.8030 - val_loss: 0.4570 - val_accuracy: 0.8633\n",
            "Epoch 7/20\n",
            "219/219 [==============================] - 3s 12ms/step - loss: 0.4409 - accuracy: 0.8426 - val_loss: 0.3267 - val_accuracy: 0.9297\n",
            "Epoch 8/20\n",
            "219/219 [==============================] - 2s 10ms/step - loss: 0.3870 - accuracy: 0.8749 - val_loss: 0.2975 - val_accuracy: 0.9427\n",
            "Epoch 9/20\n",
            "219/219 [==============================] - 2s 11ms/step - loss: 0.3371 - accuracy: 0.8909 - val_loss: 0.5849 - val_accuracy: 0.8247\n",
            "Epoch 10/20\n",
            "219/219 [==============================] - 2s 11ms/step - loss: 0.3007 - accuracy: 0.9007 - val_loss: 0.3086 - val_accuracy: 0.9420\n",
            "Epoch 11/20\n",
            "219/219 [==============================] - 2s 11ms/step - loss: 0.2691 - accuracy: 0.9114 - val_loss: 0.2645 - val_accuracy: 0.9543\n",
            "Epoch 12/20\n",
            "219/219 [==============================] - 3s 15ms/step - loss: 0.2431 - accuracy: 0.9210 - val_loss: 0.3105 - val_accuracy: 0.9453\n",
            "Epoch 13/20\n",
            "219/219 [==============================] - 3s 12ms/step - loss: 0.2182 - accuracy: 0.9289 - val_loss: 0.2940 - val_accuracy: 0.9427\n",
            "Epoch 14/20\n",
            "219/219 [==============================] - 3s 12ms/step - loss: 0.2104 - accuracy: 0.9334 - val_loss: 0.2549 - val_accuracy: 0.9730\n",
            "Epoch 15/20\n",
            "219/219 [==============================] - 2s 11ms/step - loss: 0.1873 - accuracy: 0.9409 - val_loss: 0.2526 - val_accuracy: 0.9687\n",
            "Epoch 16/20\n",
            "219/219 [==============================] - 3s 12ms/step - loss: 0.1888 - accuracy: 0.9416 - val_loss: 0.2493 - val_accuracy: 0.9763\n",
            "Epoch 17/20\n",
            "219/219 [==============================] - 2s 11ms/step - loss: 0.1525 - accuracy: 0.9506 - val_loss: 0.2885 - val_accuracy: 0.9727\n",
            "Epoch 18/20\n",
            "219/219 [==============================] - 2s 11ms/step - loss: 0.1418 - accuracy: 0.9540 - val_loss: 0.2653 - val_accuracy: 0.9693\n",
            "Epoch 19/20\n",
            "219/219 [==============================] - 2s 11ms/step - loss: 0.1614 - accuracy: 0.9457 - val_loss: 0.3929 - val_accuracy: 0.9427\n",
            "Epoch 20/20\n",
            "219/219 [==============================] - 3s 12ms/step - loss: 0.1442 - accuracy: 0.9520 - val_loss: 0.2673 - val_accuracy: 0.9757\n"
          ]
        }
      ],
      "id": "4OHT7EawRqi4"
    },
    {
      "cell_type": "code",
      "source": [
        "pred = model.predict(X_test).argmax(axis=1)\n",
        "print('Accuracy on test set - {0:.02%}'.format((pred == y_test).mean()))\n"
      ],
      "metadata": {
        "colab": {
          "base_uri": "https://localhost:8080/"
        },
        "outputId": "eae329fa-6afe-4af3-94a9-c8c6df291003",
        "id": "K0YioRK3Rqi4"
      },
      "execution_count": null,
      "outputs": [
        {
          "output_type": "stream",
          "name": "stdout",
          "text": [
            "Accuracy on test set - 97.57%\n"
          ]
        }
      ],
      "id": "K0YioRK3Rqi4"
    },
    {
      "cell_type": "code",
      "source": [
        "model.save('cnn.h5')"
      ],
      "metadata": {
        "id": "omb9XvekRqi5"
      },
      "execution_count": null,
      "outputs": [],
      "id": "omb9XvekRqi5"
    },
    {
      "cell_type": "code",
      "source": [
        "model = keras.models.load_model('cnn.h5')\n",
        "evaluate('flatland_train.data', model)"
      ],
      "metadata": {
        "colab": {
          "base_uri": "https://localhost:8080/"
        },
        "outputId": "948e89df-d72d-4dcc-e93e-4ae89b79140a",
        "id": "QJBBkDmpRqi5"
      },
      "execution_count": null,
      "outputs": [
        {
          "output_type": "execute_result",
          "data": {
            "text/plain": [
              "0.9868"
            ]
          },
          "metadata": {},
          "execution_count": 11
        }
      ],
      "id": "QJBBkDmpRqi5"
    },
    {
      "cell_type": "markdown",
      "source": [
        "Train set accuracy 98.68% Test set (simple) accuracy 99.06% Test set (adv.) accuracy 79.14%"
      ],
      "metadata": {
        "id": "g0hvVgkZRqi5"
      },
      "id": "g0hvVgkZRqi5"
    },
    {
      "cell_type": "code",
      "source": [
        ""
      ],
      "metadata": {
        "id": "zBCIBAyVVhlJ"
      },
      "id": "zBCIBAyVVhlJ",
      "execution_count": null,
      "outputs": []
    },
    {
      "cell_type": "markdown",
      "source": [
        "### CNN 8 \n",
        "\n"
      ],
      "metadata": {
        "id": "yHUOSl3XViCS"
      },
      "id": "yHUOSl3XViCS"
    },
    {
      "cell_type": "markdown",
      "source": [
        "Train set accuracy 98.02% Test set (simple) accuracy 99.24% Test set (adv.) accuracy 82.91%"
      ],
      "metadata": {
        "id": "cdHAnUgDJivZ"
      },
      "id": "cdHAnUgDJivZ"
    },
    {
      "cell_type": "code",
      "source": [
        "model = Sequential()\n",
        "model.add(keras.layers.Conv2D(32, kernel_size=(3, 3), activation='relu', input_shape=[50, 50, 1]))\n",
        "model.add(keras.layers.BatchNormalization(axis=-1))   \n",
        "model.add(keras.layers.MaxPooling2D(pool_size=(2, 2), strides = 2))\n",
        "model.add(keras.layers.Conv2D(64,kernel_size =  (3, 3), activation='relu'))\n",
        "model.add(keras.layers.BatchNormalization(axis=-1))   \n",
        "model.add(keras.layers.MaxPooling2D(pool_size=(2, 2), strides = 2))\n",
        "model.add(keras.layers.Conv2D(128,kernel_size =  (3, 3), activation='relu'))\n",
        "model.add(keras.layers.BatchNormalization(axis=-1))   \n",
        "model.add(keras.layers.MaxPooling2D(pool_size=(2, 2), strides = 2))\n",
        "model.add(keras.layers.Conv2D(256,kernel_size =  (3, 3), activation='relu'))\n",
        "model.add(keras.layers.BatchNormalization(axis=-1))   \n",
        "model.add(keras.layers.MaxPooling2D(pool_size=(2, 2), strides = 2))\n",
        "model.add(Dropout(0.5))\n",
        "model.add(keras.layers.Flatten())\n",
        "model.add(keras.layers.Dense(64, activation='relu'))\n",
        "model.add(keras.layers.Dense(56, activation='relu'))\n",
        "model.add(Dropout(0.5))\n",
        "model.add(keras.layers.Dense(8, activation='softmax'))\n",
        "model.compile(loss=\"sparse_categorical_crossentropy\",\n",
        "              optimizer=\"Adam\",\n",
        "              metrics=[\"accuracy\"])\n",
        "model.summary()"
      ],
      "metadata": {
        "colab": {
          "base_uri": "https://localhost:8080/"
        },
        "outputId": "7715980e-42f7-49ef-b692-85183f7b57d4",
        "id": "IV7CgDPzViCT"
      },
      "execution_count": null,
      "outputs": [
        {
          "output_type": "stream",
          "name": "stdout",
          "text": [
            "Model: \"sequential\"\n",
            "_________________________________________________________________\n",
            " Layer (type)                Output Shape              Param #   \n",
            "=================================================================\n",
            " conv2d (Conv2D)             (None, 48, 48, 32)        320       \n",
            "                                                                 \n",
            " batch_normalization (BatchN  (None, 48, 48, 32)       128       \n",
            " ormalization)                                                   \n",
            "                                                                 \n",
            " max_pooling2d (MaxPooling2D  (None, 24, 24, 32)       0         \n",
            " )                                                               \n",
            "                                                                 \n",
            " conv2d_1 (Conv2D)           (None, 22, 22, 64)        18496     \n",
            "                                                                 \n",
            " batch_normalization_1 (Batc  (None, 22, 22, 64)       256       \n",
            " hNormalization)                                                 \n",
            "                                                                 \n",
            " max_pooling2d_1 (MaxPooling  (None, 11, 11, 64)       0         \n",
            " 2D)                                                             \n",
            "                                                                 \n",
            " conv2d_2 (Conv2D)           (None, 9, 9, 128)         73856     \n",
            "                                                                 \n",
            " batch_normalization_2 (Batc  (None, 9, 9, 128)        512       \n",
            " hNormalization)                                                 \n",
            "                                                                 \n",
            " max_pooling2d_2 (MaxPooling  (None, 4, 4, 128)        0         \n",
            " 2D)                                                             \n",
            "                                                                 \n",
            " conv2d_3 (Conv2D)           (None, 2, 2, 256)         295168    \n",
            "                                                                 \n",
            " batch_normalization_3 (Batc  (None, 2, 2, 256)        1024      \n",
            " hNormalization)                                                 \n",
            "                                                                 \n",
            " max_pooling2d_3 (MaxPooling  (None, 1, 1, 256)        0         \n",
            " 2D)                                                             \n",
            "                                                                 \n",
            " dropout (Dropout)           (None, 1, 1, 256)         0         \n",
            "                                                                 \n",
            " flatten (Flatten)           (None, 256)               0         \n",
            "                                                                 \n",
            " dense (Dense)               (None, 64)                16448     \n",
            "                                                                 \n",
            " dense_1 (Dense)             (None, 56)                3640      \n",
            "                                                                 \n",
            " dropout_1 (Dropout)         (None, 56)                0         \n",
            "                                                                 \n",
            " dense_2 (Dense)             (None, 8)                 456       \n",
            "                                                                 \n",
            "=================================================================\n",
            "Total params: 410,304\n",
            "Trainable params: 409,344\n",
            "Non-trainable params: 960\n",
            "_________________________________________________________________\n"
          ]
        }
      ],
      "id": "IV7CgDPzViCT"
    },
    {
      "cell_type": "code",
      "source": [
        "loss = model.fit(X_train, y_train, epochs=7,validation_data=[X_test,y_test])"
      ],
      "metadata": {
        "colab": {
          "base_uri": "https://localhost:8080/"
        },
        "outputId": "b79c88a0-2999-4671-f042-66555e18f31c",
        "id": "GTOoNTEBViCT"
      },
      "execution_count": null,
      "outputs": [
        {
          "output_type": "stream",
          "name": "stdout",
          "text": [
            "Epoch 1/7\n",
            "219/219 [==============================] - 11s 28ms/step - loss: 1.6258 - accuracy: 0.3906 - val_loss: 2.2393 - val_accuracy: 0.1713\n",
            "Epoch 2/7\n",
            "219/219 [==============================] - 5s 24ms/step - loss: 0.8856 - accuracy: 0.6481 - val_loss: 3.2190 - val_accuracy: 0.1923\n",
            "Epoch 3/7\n",
            "219/219 [==============================] - 5s 22ms/step - loss: 0.4976 - accuracy: 0.8413 - val_loss: 1.9350 - val_accuracy: 0.3860\n",
            "Epoch 4/7\n",
            "219/219 [==============================] - 4s 19ms/step - loss: 0.3615 - accuracy: 0.9037 - val_loss: 0.2288 - val_accuracy: 0.9450\n",
            "Epoch 5/7\n",
            "219/219 [==============================] - 4s 17ms/step - loss: 0.2707 - accuracy: 0.9327 - val_loss: 0.3064 - val_accuracy: 0.9213\n",
            "Epoch 6/7\n",
            "219/219 [==============================] - 4s 17ms/step - loss: 0.2327 - accuracy: 0.9491 - val_loss: 0.3186 - val_accuracy: 0.9247\n",
            "Epoch 7/7\n",
            "219/219 [==============================] - 4s 16ms/step - loss: 0.2106 - accuracy: 0.9560 - val_loss: 0.1838 - val_accuracy: 0.9757\n"
          ]
        }
      ],
      "id": "GTOoNTEBViCT"
    },
    {
      "cell_type": "code",
      "source": [
        "pred = model.predict(X_test).argmax(axis=1)\n",
        "print('Accuracy on test set - {0:.02%}'.format((pred == y_test).mean()))\n"
      ],
      "metadata": {
        "colab": {
          "base_uri": "https://localhost:8080/"
        },
        "outputId": "f3e99dfc-da83-440c-fc81-6910af59a79c",
        "id": "wTj7vJDOViCT"
      },
      "execution_count": null,
      "outputs": [
        {
          "output_type": "stream",
          "name": "stdout",
          "text": [
            "Accuracy on test set - 97.57%\n"
          ]
        }
      ],
      "id": "wTj7vJDOViCT"
    },
    {
      "cell_type": "code",
      "source": [
        "model.save('cnn.h5')"
      ],
      "metadata": {
        "id": "MZmW7Eq1ViCU"
      },
      "execution_count": null,
      "outputs": [],
      "id": "MZmW7Eq1ViCU"
    },
    {
      "cell_type": "code",
      "source": [
        "model = keras.models.load_model('cnn.h5')\n",
        "evaluate('flatland_train.data', model)"
      ],
      "metadata": {
        "colab": {
          "base_uri": "https://localhost:8080/"
        },
        "outputId": "d6597c51-d6a7-45c7-ed80-9f241e03f848",
        "id": "r-6GGXhyViCU"
      },
      "execution_count": null,
      "outputs": [
        {
          "output_type": "execute_result",
          "data": {
            "text/plain": [
              "0.9802"
            ]
          },
          "metadata": {},
          "execution_count": 10
        }
      ],
      "id": "r-6GGXhyViCU"
    },
    {
      "cell_type": "markdown",
      "source": [
        "# Geriausias gautas rezultatas su CNN\n",
        "\n",
        "\n",
        "\n",
        "\n",
        "\n"
      ],
      "metadata": {
        "id": "hH0RZC_yJ3-9"
      },
      "id": "hH0RZC_yJ3-9"
    },
    {
      "cell_type": "markdown",
      "source": [
        "Train set accuracy 98.38% Test set (simple) accuracy 99.78% Test set (adv.) accuracy 82.93%"
      ],
      "metadata": {
        "id": "a0UvDqhPJ3-9"
      },
      "id": "a0UvDqhPJ3-9"
    },
    {
      "cell_type": "markdown",
      "source": [
        "Šiame modelyje pasiekti gero rezultato padėjo Conv2D sluoksnių pridėjimas, taip pat MaxPooling2D, kuris mažina sluoksnius ir padeda geriau treniruotis, ir Dropout, kuris atmeta outliers neutronus. Taip pat pasirinkau early stopping- tik 7 epochas."
      ],
      "metadata": {
        "id": "SFCJ2XMsKLmS"
      },
      "id": "SFCJ2XMsKLmS"
    },
    {
      "cell_type": "code",
      "source": [
        "model = Sequential()\n",
        "model.add(keras.layers.Conv2D(32, kernel_size=(3, 3), activation='relu', input_shape=[50, 50, 1]))\n",
        "model.add(keras.layers.BatchNormalization(axis=-1))   \n",
        "model.add(keras.layers.MaxPooling2D(pool_size=(2, 2)))\n",
        "model.add(keras.layers.Conv2D(64,kernel_size =  (3, 3), activation='relu'))\n",
        "model.add(keras.layers.BatchNormalization(axis=-1))   \n",
        "model.add(keras.layers.MaxPooling2D(pool_size=(2, 2)))\n",
        "model.add(keras.layers.Conv2D(128,kernel_size =  (3, 3), activation='relu'))\n",
        "model.add(keras.layers.BatchNormalization(axis=-1))   \n",
        "model.add(keras.layers.MaxPooling2D(pool_size=(2, 2)))\n",
        "model.add(keras.layers.Conv2D(128,kernel_size =  (3, 3), activation='relu'))\n",
        "model.add(keras.layers.BatchNormalization(axis=-1))   \n",
        "model.add(keras.layers.MaxPooling2D(pool_size=(2, 2)))\n",
        "model.add(Dropout(0.5))\n",
        "model.add(keras.layers.Flatten())\n",
        "model.add(keras.layers.Dense(128, activation='relu'))\n",
        "model.add(keras.layers.Dense(64, activation='relu'))\n",
        "model.add(Dropout(0.6))\n",
        "model.add(keras.layers.Dense(8, activation='softmax'))\n",
        "model.compile(loss=\"sparse_categorical_crossentropy\",\n",
        "              optimizer=\"Adam\",\n",
        "              metrics=[\"accuracy\"])\n",
        "model.summary()"
      ],
      "metadata": {
        "colab": {
          "base_uri": "https://localhost:8080/"
        },
        "outputId": "a99df33c-2af3-4ce9-aa62-e32abe932f1b",
        "id": "5biY4Z3qJ3--"
      },
      "execution_count": null,
      "outputs": [
        {
          "output_type": "stream",
          "name": "stdout",
          "text": [
            "Model: \"sequential\"\n",
            "_________________________________________________________________\n",
            " Layer (type)                Output Shape              Param #   \n",
            "=================================================================\n",
            " conv2d (Conv2D)             (None, 48, 48, 32)        320       \n",
            "                                                                 \n",
            " batch_normalization (BatchN  (None, 48, 48, 32)       128       \n",
            " ormalization)                                                   \n",
            "                                                                 \n",
            " max_pooling2d (MaxPooling2D  (None, 24, 24, 32)       0         \n",
            " )                                                               \n",
            "                                                                 \n",
            " conv2d_1 (Conv2D)           (None, 22, 22, 64)        18496     \n",
            "                                                                 \n",
            " batch_normalization_1 (Batc  (None, 22, 22, 64)       256       \n",
            " hNormalization)                                                 \n",
            "                                                                 \n",
            " max_pooling2d_1 (MaxPooling  (None, 11, 11, 64)       0         \n",
            " 2D)                                                             \n",
            "                                                                 \n",
            " conv2d_2 (Conv2D)           (None, 9, 9, 128)         73856     \n",
            "                                                                 \n",
            " batch_normalization_2 (Batc  (None, 9, 9, 128)        512       \n",
            " hNormalization)                                                 \n",
            "                                                                 \n",
            " max_pooling2d_2 (MaxPooling  (None, 4, 4, 128)        0         \n",
            " 2D)                                                             \n",
            "                                                                 \n",
            " conv2d_3 (Conv2D)           (None, 2, 2, 128)         147584    \n",
            "                                                                 \n",
            " batch_normalization_3 (Batc  (None, 2, 2, 128)        512       \n",
            " hNormalization)                                                 \n",
            "                                                                 \n",
            " max_pooling2d_3 (MaxPooling  (None, 1, 1, 128)        0         \n",
            " 2D)                                                             \n",
            "                                                                 \n",
            " dropout (Dropout)           (None, 1, 1, 128)         0         \n",
            "                                                                 \n",
            " flatten (Flatten)           (None, 128)               0         \n",
            "                                                                 \n",
            " dense (Dense)               (None, 128)               16512     \n",
            "                                                                 \n",
            " dense_1 (Dense)             (None, 64)                8256      \n",
            "                                                                 \n",
            " dropout_1 (Dropout)         (None, 64)                0         \n",
            "                                                                 \n",
            " dense_2 (Dense)             (None, 8)                 520       \n",
            "                                                                 \n",
            "=================================================================\n",
            "Total params: 266,952\n",
            "Trainable params: 266,248\n",
            "Non-trainable params: 704\n",
            "_________________________________________________________________\n"
          ]
        }
      ],
      "id": "5biY4Z3qJ3--"
    },
    {
      "cell_type": "code",
      "source": [
        "loss = model.fit(X_train, y_train, epochs=7,validation_data=[X_test,y_test])"
      ],
      "metadata": {
        "colab": {
          "base_uri": "https://localhost:8080/"
        },
        "outputId": "4da1ca25-309c-42f8-c47e-abedc861d04f",
        "id": "9G6klsW9J3-_"
      },
      "execution_count": null,
      "outputs": [
        {
          "output_type": "stream",
          "name": "stdout",
          "text": [
            "Epoch 1/7\n",
            "219/219 [==============================] - 11s 28ms/step - loss: 1.6185 - accuracy: 0.3801 - val_loss: 2.6737 - val_accuracy: 0.1523\n",
            "Epoch 2/7\n",
            "219/219 [==============================] - 5s 23ms/step - loss: 0.9450 - accuracy: 0.6273 - val_loss: 3.8168 - val_accuracy: 0.2907\n",
            "Epoch 3/7\n",
            "219/219 [==============================] - 5s 24ms/step - loss: 0.5733 - accuracy: 0.7940 - val_loss: 1.6605 - val_accuracy: 0.4143\n",
            "Epoch 4/7\n",
            "219/219 [==============================] - 5s 22ms/step - loss: 0.3887 - accuracy: 0.8913 - val_loss: 0.2071 - val_accuracy: 0.9580\n",
            "Epoch 5/7\n",
            "219/219 [==============================] - 5s 22ms/step - loss: 0.3034 - accuracy: 0.9350 - val_loss: 0.1640 - val_accuracy: 0.9780\n",
            "Epoch 6/7\n",
            "219/219 [==============================] - 4s 17ms/step - loss: 0.2608 - accuracy: 0.9436 - val_loss: 0.1828 - val_accuracy: 0.9683\n",
            "Epoch 7/7\n",
            "219/219 [==============================] - 4s 17ms/step - loss: 0.2272 - accuracy: 0.9543 - val_loss: 0.1383 - val_accuracy: 0.9820\n"
          ]
        }
      ],
      "id": "9G6klsW9J3-_"
    },
    {
      "cell_type": "code",
      "source": [
        "pred = model.predict(X_test).argmax(axis=1)\n",
        "print('Accuracy on test set - {0:.02%}'.format((pred == y_test).mean()))\n"
      ],
      "metadata": {
        "colab": {
          "base_uri": "https://localhost:8080/"
        },
        "outputId": "9f1b980c-ae21-4e53-d58e-cc00ad64e796",
        "id": "JdTybo_pJ3-_"
      },
      "execution_count": null,
      "outputs": [
        {
          "output_type": "stream",
          "name": "stdout",
          "text": [
            "Accuracy on test set - 98.20%\n"
          ]
        }
      ],
      "id": "JdTybo_pJ3-_"
    },
    {
      "cell_type": "code",
      "source": [
        "model.save('cnn.h5')\n"
      ],
      "metadata": {
        "id": "2KQR6nCXJ3_A"
      },
      "execution_count": null,
      "outputs": [],
      "id": "2KQR6nCXJ3_A"
    },
    {
      "cell_type": "code",
      "source": [
        "model = keras.models.load_model('cnn.h5')\n",
        "evaluate('flatland_train.data', model)"
      ],
      "metadata": {
        "colab": {
          "base_uri": "https://localhost:8080/"
        },
        "outputId": "57efc8cf-bab1-44a1-e098-fad57fc02af5",
        "id": "KARWh4fbJ3_A"
      },
      "execution_count": null,
      "outputs": [
        {
          "output_type": "execute_result",
          "data": {
            "text/plain": [
              "0.9838"
            ]
          },
          "metadata": {},
          "execution_count": 9
        }
      ],
      "id": "KARWh4fbJ3_A"
    },
    {
      "cell_type": "code",
      "source": [
        "pd.DataFrame(loss.history)[['loss','val_loss']].plot()"
      ],
      "metadata": {
        "id": "i3310M9jHgHU"
      },
      "id": "i3310M9jHgHU",
      "execution_count": null,
      "outputs": []
    },
    {
      "cell_type": "markdown",
      "source": [
        "pd.DataFrame(loss.history).plot()"
      ],
      "metadata": {
        "id": "-DOMI0E2IauZ"
      },
      "id": "-DOMI0E2IauZ"
    },
    {
      "cell_type": "markdown",
      "id": "6064caf2",
      "metadata": {
        "id": "6064caf2"
      },
      "source": [
        "# Duomenų grafinis pavaizdavimas"
      ]
    },
    {
      "cell_type": "markdown",
      "source": [
        "Grafiškai pavaizduojame duomenis, su kuriais treniravome modelius"
      ],
      "metadata": {
        "id": "byiQoou3HBWK"
      },
      "id": "byiQoou3HBWK"
    },
    {
      "cell_type": "code",
      "source": [
        "path = 'flatland_train.data'\n",
        "X,y = pickle.load(gzip.open(path,'rb')) \n",
        "\n",
        "# data pre-proc\n",
        "y[y != 0] -= 2\n",
        "X = X / 255."
      ],
      "metadata": {
        "id": "-pV_y5bCSXn-"
      },
      "id": "-pV_y5bCSXn-",
      "execution_count": null,
      "outputs": []
    },
    {
      "cell_type": "code",
      "source": [
        "X_train, X_test, y_train, y_test = train_test_split(X,y,test_size = 0.3,random_state = 42) "
      ],
      "metadata": {
        "id": "NmfGijiESf8S"
      },
      "id": "NmfGijiESf8S",
      "execution_count": null,
      "outputs": []
    },
    {
      "cell_type": "code",
      "execution_count": null,
      "id": "bd451a6e",
      "metadata": {
        "colab": {
          "base_uri": "https://localhost:8080/"
        },
        "id": "bd451a6e",
        "outputId": "5eab1ca8-bb1d-4051-c665-8ef745bfc068"
      },
      "outputs": [
        {
          "output_type": "execute_result",
          "data": {
            "text/plain": [
              "<matplotlib.image.AxesImage at 0x7fa079202bd0>"
            ]
          },
          "metadata": {},
          "execution_count": 30
        },
        {
          "output_type": "display_data",
          "data": {
            "image/png": "[encoded data removed]",
            "text/plain": [
              "<Figure size 432x288 with 1 Axes>"
            ]
          },
          "metadata": {
            "needs_background": "light"
          }
        }
      ],
      "source": [
        "plt.imshow(X_test[0],cmap='gray',vmin=0)"
      ]
    },
    {
      "cell_type": "code",
      "execution_count": null,
      "id": "b232250e",
      "metadata": {
        "colab": {
          "base_uri": "https://localhost:8080/"
        },
        "id": "b232250e",
        "outputId": "6f32d758-9560-495c-dde4-932612849b56"
      },
      "outputs": [
        {
          "output_type": "display_data",
          "data": {
            "image/png": "[encoded data removed]",
            "text/plain": [
              "<Figure size 720x720 with 10 Axes>"
            ]
          },
          "metadata": {
            "needs_background": "light"
          }
        }
      ],
      "source": [
        "plt.figure(figsize=(10, 10))\n",
        "for i in range(10):\n",
        "        plt.subplot(10, 10, 10 + i + 1)\n",
        "        plt.imshow(X_test[i], cmap='gray')\n",
        "        plt.axis('off')\n",
        "plt.show()"
      ]
    },
    {
      "cell_type": "markdown",
      "source": [
        "Suskaičiuojame kiek skirtingu klasių duomenų buvo ir pavaizduojame po vieną iš kiekvienos"
      ],
      "metadata": {
        "id": "vP4Z99EtHQvd"
      },
      "id": "vP4Z99EtHQvd"
    },
    {
      "cell_type": "code",
      "source": [
        "from collections import Counter \n",
        "\n",
        "Counter(y)"
      ],
      "metadata": {
        "colab": {
          "base_uri": "https://localhost:8080/"
        },
        "id": "9XnTG_YOjBOB",
        "outputId": "71ee6cd7-d225-47b2-ea7b-46bfcbc45ae0"
      },
      "id": "9XnTG_YOjBOB",
      "execution_count": null,
      "outputs": [
        {
          "output_type": "execute_result",
          "data": {
            "text/plain": [
              "Counter({0.0: 1381, 1.0: 2853, 2.0: 1868, 3.0: 2137, 4.0: 1761})"
            ]
          },
          "metadata": {},
          "execution_count": 32
        }
      ]
    },
    {
      "cell_type": "code",
      "execution_count": null,
      "id": "f636c4e1",
      "metadata": {
        "colab": {
          "base_uri": "https://localhost:8080/"
        },
        "id": "f636c4e1",
        "outputId": "dcd64706-29a2-4496-e62f-81d43fb29194"
      },
      "outputs": [
        {
          "output_type": "display_data",
          "data": {
            "image/png": "[encoded data removed]",
            "text/plain": [
              "<Figure size 432x288 with 5 Axes>"
            ]
          },
          "metadata": {
            "needs_background": "light"
          }
        }
      ],
      "source": [
        "for i in range(5):\n",
        "    idx= np.where(y_train == i)[0][0]\n",
        "    plt.subplot(2,5,i+1)\n",
        "    plt.imshow(X_train[idx],cmap='gray')\n",
        "    plt.title(i)\n",
        "    plt.axis('off')\n",
        "plt.show() "
      ]
    }
  ],
  "metadata": {
    "kernelspec": {
      "display_name": "Python 3 (ipykernel)",
      "language": "python",
      "name": "python3"
    },
    "language_info": {
      "codemirror_mode": {
        "name": "ipython",
        "version": 3
      },
      "file_extension": ".py",
      "mimetype": "text/x-python",
      "name": "python",
      "nbconvert_exporter": "python",
      "pygments_lexer": "ipython3",
      "version": "3.8.10"
    },
    "colab": {
      "name": "FLATLANDfinal.ipynb",
      "provenance": [],
      "collapsed_sections": [
        "R6NWecHTnmwf",
        "nuLVlV3P1v4m",
        "13b28fec",
        "lLhobCbh5r7J",
        "TObE6QFoE3Cn",
        "a6901dd4",
        "yyPTEnKRFJF0",
        "vi-x_fCoF7ju",
        "pMxJdG2qGnCA",
        "U4X-jMPJ6O-4",
        "-3hiaSXFEgY6",
        "t1dmprGVFoOz",
        "-YPrMDuxHyAw",
        "fnLbpH0CInfI",
        "ruWtJ8-VLHTb",
        "hH0RZC_yJ3-9",
        "6064caf2"
      ]
    },
    "accelerator": "GPU"
  },
  "nbformat": 4,
  "nbformat_minor": 5
}